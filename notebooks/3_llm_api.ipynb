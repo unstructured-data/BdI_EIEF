{
 "cells": [
  {
   "cell_type": "markdown",
   "metadata": {
    "id": "b4TEv7bKuJ7S"
   },
   "source": [
    "# **Large Language Models and Machine Learning for Unstructured Data**\n",
    "\n",
    "*Interacting with Large Language Models*\n",
    "\n",
    "<br>\n",
    "\n",
    "[![Open In Colab](https://colab.research.google.com/assets/colab-badge.svg)](https://colab.research.google.com/github//unstructured-data/BdI_EIEF/blob/main/notebooks/3_llm_api.ipynb)\n",
    "\n"
   ]
  },
  {
   "cell_type": "markdown",
   "metadata": {
    "id": "PS7QjJCs3Pfo"
   },
   "source": [
    "# 0. Setup"
   ]
  },
  {
   "cell_type": "code",
   "execution_count": 96,
   "metadata": {
    "id": "gc7f-6ml3Pfv"
   },
   "outputs": [],
   "source": [
    "%%capture\n",
    "\n",
    "# install required libraries\n",
    "# !pip3 install google-generativeai             # Google's Gemini API (no need to install in Colab)\n",
    "!pip3 install openai                            # OpenAI API\n",
    "!pip3 install tiktoken                          # Estimate costs of using OpenAI models\n",
    "!pip3 install ipywidgets"
   ]
  },
  {
   "cell_type": "code",
   "execution_count": null,
   "metadata": {
    "id": "m3mujblBuJ7V"
   },
   "outputs": [],
   "source": [
    "# basic libraries\n",
    "import pandas as pd\n",
    "import numpy as np\n",
    "import os\n",
    "from IPython.core.display import HTML\n",
    "from tqdm import tqdm\n",
    "import urllib.request\n",
    "import re\n",
    "import tiktoken\n",
    "\n",
    "# LLMs APIs\n",
    "import google.generativeai as genai\n",
    "from openai import OpenAI\n",
    "\n",
    "# colab secrets\n",
    "\n",
    "from google.colab import userdata"
   ]
  },
  {
   "cell_type": "markdown",
   "metadata": {
    "id": "fSvDUgoeuJ7W"
   },
   "source": [
    "# 1. Interacting with LLMs through APIs\n",
    "\n"
   ]
  },
  {
   "cell_type": "markdown",
   "metadata": {
    "id": "Su0DdYUXWVWW"
   },
   "source": [
    "### What is an API?\n",
    "\n",
    "Application Programming Interfaces (APIs) allow applications to *speak to each other*. In our context, we will use APIs so that Python can directly speak to multiple language models. This will help us programatically interact with language models and fulfill certain tasks that can't be done manually.\n",
    "\n",
    "<br>\n",
    "\n",
    "*How would you summarize 10,000 different news articles using ChatGPT?*"
   ]
  },
  {
   "cell_type": "markdown",
   "metadata": {
    "id": "1Eca56bJa9u_"
   },
   "source": [
    "### Requirements for using an API\n",
    "\n",
    "To interact with an API we just need to use a programming language supported by the API (most of them support Python) and a key that identifies us. In order to get started with an API, it is always a good idea to go to the documentation provided by its creator.\n",
    "\n",
    "- [Google](https://ai.google.dev/gemini-api)\n",
    "- [OpenAI](https://platform.openai.com/docs/quickstart?context=python)\n",
    "- [Anthropic](https://www.anthropic.com/api)\n",
    "\n",
    "\n",
    "Below, we will provide some boilerplate code to interact with some of the main APIs in the market."
   ]
  },
  {
   "cell_type": "code",
   "execution_count": null,
   "metadata": {
    "cellView": "form",
    "colab": {
     "base_uri": "https://localhost:8080/",
     "height": 217
    },
    "executionInfo": {
     "elapsed": 810,
     "status": "ok",
     "timestamp": 1718182004799,
     "user": {
      "displayName": "Yabra Muvdi",
      "userId": "05411695158184527633"
     },
     "user_tz": -120
    },
    "id": "VIHec60rbjAc",
    "outputId": "2ac257b8-ad19-4c3e-f99b-1c3f11bf169e"
   },
   "outputs": [
    {
     "data": {
      "text/html": [
       "\n",
       "<div class=\"alert\">\n",
       "  <h2> APIs Keys </h2>\n",
       "  <br>\n",
       "  <p> Be careful! Never leave your keys in public repositories or in files that are shared. Since some of the API services are paid, this can lead to malicious actors using your key. </p>\n",
       "\n",
       "</div>\n",
       "\n",
       "<style>\n",
       ".alert {\n",
       "  padding: 20px;\n",
       "  background-color: #D72638;\n",
       "  color: white;\n",
       "  margin-bottom: 15px;\n",
       "}\n",
       "\n",
       "h2{\n",
       "  font-size: 30px;\n",
       "  color: white;\n",
       "}\n",
       "\n",
       "li, p{\n",
       "  font-size: 20px;\n",
       "}\n",
       "\n",
       "</style>\n"
      ],
      "text/plain": [
       "<IPython.core.display.HTML object>"
      ]
     },
     "execution_count": 58,
     "metadata": {},
     "output_type": "execute_result"
    }
   ],
   "source": [
    "#@title\n",
    "HTML(\"\"\"\n",
    "<div class=\"alert\">\n",
    "  <h2> APIs Keys </h2>\n",
    "  <br>\n",
    "  <p> Be careful! Never leave your keys in public repositories or in files that are shared. Since some of the API services are paid, this can lead to malicious actors using your key. </p>\n",
    "\n",
    "</div>\n",
    "\n",
    "<style>\n",
    ".alert {\n",
    "  padding: 20px;\n",
    "  background-color: #D72638;\n",
    "  color: white;\n",
    "  margin-bottom: 15px;\n",
    "}\n",
    "\n",
    "h2{\n",
    "  font-size: 30px;\n",
    "  color: white;\n",
    "}\n",
    "\n",
    "li, p{\n",
    "  font-size: 20px;\n",
    "}\n",
    "\n",
    "</style>\n",
    "\"\"\")"
   ]
  },
  {
   "cell_type": "markdown",
   "metadata": {
    "id": "N9qsNVFrSMbs"
   },
   "source": [
    "### Some key parameters for text generation with LLMs\n",
    "\n",
    "- [Temperature](https://lukesalamone.github.io/posts/what-is-temperature/): Controls the \"randomness\" of the generated text by influencing the underlying token probabilities.\n",
    "- Max tokens: Helps you pre-define the number of tokens that the model generates."
   ]
  },
  {
   "cell_type": "markdown",
   "metadata": {
    "id": "Ns22h13rzVs9"
   },
   "source": [
    "## Google"
   ]
  },
  {
   "cell_type": "code",
   "execution_count": null,
   "metadata": {
    "id": "5ybDrpAqWZSM"
   },
   "outputs": [],
   "source": [
    "# load the key from file\n",
    "\n",
    "with open('../../gemini_key.txt', 'r') as file:\n",
    "    api_key = file.read().replace('\\n', '')\n",
    "    \n",
    "# or from secret manager\n",
    "\n",
    "# api_key = userdata.get(\"gem_key\")"
   ]
  },
  {
   "cell_type": "code",
   "execution_count": null,
   "metadata": {
    "id": "LbdVyL_QuJ7X"
   },
   "outputs": [],
   "source": [
    "# add your key to the API configuration\n",
    "genai.configure(api_key=api_key)"
   ]
  },
  {
   "cell_type": "code",
   "execution_count": null,
   "metadata": {
    "id": "EKAjb3T3da1V"
   },
   "outputs": [],
   "source": [
    "# Set up the model\n",
    "generation_config = {\n",
    "\"temperature\": 0.8,             # Controls the randomness of the output\n",
    "\"max_output_tokens\": 150,       # The maximum number of tokens to include\n",
    "}"
   ]
  },
  {
   "cell_type": "code",
   "execution_count": null,
   "metadata": {
    "id": "8GVIcoLAdRDJ"
   },
   "outputs": [],
   "source": [
    "# initialize the model\n",
    "model = genai.GenerativeModel(model_name='gemini-1.0-pro',            # name of the model we want to use\n",
    "                              generation_config=generation_config     # parameters\n",
    "                              )"
   ]
  },
  {
   "cell_type": "code",
   "execution_count": null,
   "metadata": {
    "id": "yklwzZdWT4xy"
   },
   "outputs": [],
   "source": [
    "# generate a response from a prompt\n",
    "result = model.generate_content(contents={'role':'user',\n",
    "                                          'parts': \"Write a short song about the housing market in Rome in the style of Maneskin\"})"
   ]
  },
  {
   "cell_type": "code",
   "execution_count": null,
   "metadata": {
    "colab": {
     "base_uri": "https://localhost:8080/"
    },
    "executionInfo": {
     "elapsed": 9,
     "status": "ok",
     "timestamp": 1718460460746,
     "user": {
      "displayName": "Yabra Muvdi",
      "userId": "05411695158184527633"
     },
     "user_tz": -120
    },
    "id": "n-sxbcIbT-pG",
    "outputId": "37060b41-a750-401c-fd7f-db085e5dd073"
   },
   "outputs": [
    {
     "name": "stdout",
     "output_type": "stream",
     "text": [
      "(Verse 1)\n",
      "In Rome's ancient heart, where history resides,\n",
      "A tale unfolds, where housing market abides.\n",
      "Like a tempestuous sea, it ebbs and it flows,\n",
      "A labyrinth of deals, where fortunes oppose.\n",
      "\n",
      "(Chorus)\n",
      "Oh, Rome, the eternal city,\n",
      "Your housing market's a reckless ditty.\n",
      "From opulent palazzos to humble abodes,\n",
      "The chase for shelter, a relentless road.\n",
      "\n",
      "(Verse 2)\n",
      "Tourists and locals alike, they flock to your gate,\n",
      "Seeking a haven, a place to create.\n",
      "But as demand soars, so do the prices climb,\n",
      "A daunting summit, a financial crime.\n",
      "\n",
      "(\n"
     ]
    }
   ],
   "source": [
    "# extract the text from the response object\n",
    "print(result.candidates[0].content.parts[0].text)"
   ]
  },
  {
   "cell_type": "markdown",
   "metadata": {
    "id": "FHbG0ToYzZfS"
   },
   "source": [
    "## OpenAI"
   ]
  },
  {
   "cell_type": "code",
   "execution_count": null,
   "metadata": {
    "id": "bOK59Nigd8th"
   },
   "outputs": [],
   "source": [
    "# load the key\n",
    "with open('../../openai_key.txt', 'r') as file:\n",
    "    api_key = file.read().replace('\\n', '')\n",
    "    \n",
    "# or from secret manager\n",
    "\n",
    "# api_key = userdata.get(\"openai_key\")"
   ]
  },
  {
   "cell_type": "code",
   "execution_count": null,
   "metadata": {
    "id": "xDgMI47tuJ7X"
   },
   "outputs": [],
   "source": [
    "# initialize a client using the API key\n",
    "client = OpenAI(api_key=api_key)"
   ]
  },
  {
   "cell_type": "code",
   "execution_count": null,
   "metadata": {
    "id": "HRpg1jlUUw9s"
   },
   "outputs": [],
   "source": [
    "# get a response from the model\n",
    "response = client.chat.completions.create(\n",
    "    model=\"gpt-3.5-turbo-0125\",    # name of the model,\n",
    "    messages=[\n",
    "        {\"role\": \"user\",\n",
    "         \"content\": \"Explain the word2vec model with some verses in the style of Giuseppe Verdi.\"}    # prompt\n",
    "    ],\n",
    "    max_tokens=100,                 # max number of tokens to be generate\n",
    "    temperature=0.1                 # controls the randomness of the output\n",
    ")"
   ]
  },
  {
   "cell_type": "code",
   "execution_count": null,
   "metadata": {
    "colab": {
     "base_uri": "https://localhost:8080/"
    },
    "executionInfo": {
     "elapsed": 3,
     "status": "ok",
     "timestamp": 1718460539997,
     "user": {
      "displayName": "Yabra Muvdi",
      "userId": "05411695158184527633"
     },
     "user_tz": -120
    },
    "id": "WOoHUKGwVz-P",
    "outputId": "2434fdbf-3c12-46a1-f382-96b77a3475c3"
   },
   "outputs": [
    {
     "name": "stdout",
     "output_type": "stream",
     "text": [
      "In the realm of language, a model doth reside,\n",
      "Known as word2vec, a method tried and true,\n",
      "It doth capture meanings, words side by side,\n",
      "In vectors, they dance, a linguistic pas de deux.\n",
      "\n",
      "Like characters in an opera, they sing and soar,\n",
      "Each word a note, a melody to be heard,\n",
      "In a symphony of meaning, they explore,\n",
      "The depths of language, every nuance stirred.\n",
      "\n",
      "Oh word2vec, thou art a marvel of our\n"
     ]
    }
   ],
   "source": [
    "print(response.choices[0].message.content)"
   ]
  },
  {
   "cell_type": "code",
   "execution_count": null,
   "metadata": {
    "cellView": "form",
    "colab": {
     "base_uri": "https://localhost:8080/",
     "height": 253
    },
    "executionInfo": {
     "elapsed": 305,
     "status": "ok",
     "timestamp": 1718617768272,
     "user": {
      "displayName": "Yabra Muvdi",
      "userId": "05411695158184527633"
     },
     "user_tz": -120
    },
    "id": "OK-4xVUsl1jG",
    "outputId": "d6ea72fc-71b5-4a19-8813-f29272238293"
   },
   "outputs": [
    {
     "data": {
      "text/html": [
       "\n",
       "<div class=\"alert\">\n",
       "  <h2> Question </h2>\n",
       "  <br>\n",
       "  <ol type=\"a\">\n",
       "  <li> What other OpenAI model could we have used? </li>\n",
       "  <li> Where did you find the information? </li>\n",
       "  </ol>\n",
       "\n",
       "</div>\n",
       "\n",
       "<style>\n",
       ".alert {\n",
       "  padding: 20px;\n",
       "  background-color: #586BA4;\n",
       "  color: white;\n",
       "  margin-bottom: 15px;\n",
       "}\n",
       "\n",
       "h2{\n",
       "  font-size: 30px;\n",
       "  color: white;\n",
       "}\n",
       "\n",
       "li, p{\n",
       "  font-size: 20px;\n",
       "}\n",
       "\n",
       "</style>\n"
      ],
      "text/plain": [
       "<IPython.core.display.HTML object>"
      ]
     },
     "execution_count": 14,
     "metadata": {},
     "output_type": "execute_result"
    }
   ],
   "source": [
    "#@title\n",
    "HTML(\"\"\"\n",
    "<div class=\"alert\">\n",
    "  <h2> Question </h2>\n",
    "  <br>\n",
    "  <ol type=\"a\">\n",
    "  <li> What other OpenAI model could we have used? </li>\n",
    "  <li> Where did you find the information? </li>\n",
    "  </ol>\n",
    "\n",
    "</div>\n",
    "\n",
    "<style>\n",
    ".alert {\n",
    "  padding: 20px;\n",
    "  background-color: #586BA4;\n",
    "  color: white;\n",
    "  margin-bottom: 15px;\n",
    "}\n",
    "\n",
    "h2{\n",
    "  font-size: 30px;\n",
    "  color: white;\n",
    "}\n",
    "\n",
    "li, p{\n",
    "  font-size: 20px;\n",
    "}\n",
    "\n",
    "</style>\n",
    "\"\"\")"
   ]
  },
  {
   "cell_type": "markdown",
   "metadata": {
    "id": "ig7TxJTOzfBH"
   },
   "source": [
    "## Anthropic"
   ]
  },
  {
   "cell_type": "code",
   "execution_count": null,
   "metadata": {
    "id": "LNqN3TwguJ7X"
   },
   "outputs": [],
   "source": [
    "!pip3 install anthropic\n",
    "\n",
    "from anthropic import Anthropic\n",
    "\n",
    "client = Anthropic(\n",
    "    api_key=\"ANTHROPIC_API_KEY\",\n",
    ")\n",
    "\n",
    "message = client.messages.create(\n",
    "    max_tokens=1024,\n",
    "    messages=[\n",
    "        {\n",
    "            \"role\": \"user\",\n",
    "            \"content\": \"Hello, Claude\",\n",
    "        }\n",
    "    ],\n",
    "    model=\"claude-3-opus-20240229\",\n",
    ")\n",
    "print(message.content)"
   ]
  },
  {
   "cell_type": "markdown",
   "metadata": {
    "id": "_lTPqlWvzjIr"
   },
   "source": [
    "## Cohere"
   ]
  },
  {
   "cell_type": "code",
   "execution_count": null,
   "metadata": {
    "id": "YXTm_jFB0B4F"
   },
   "outputs": [],
   "source": [
    "!pip3 install cohere\n",
    "\n",
    "import cohere\n",
    "\n",
    "co = cohere.Client(\n",
    "    api_key=\"YOUR_API_KEY\",\n",
    ")\n",
    "\n",
    "chat = co.chat(\n",
    "    message=\"hello world!\",\n",
    "    model=\"command\"\n",
    ")\n",
    "\n",
    "print(chat)"
   ]
  },
  {
   "cell_type": "markdown",
   "metadata": {
    "id": "ywZZNMrn0CvA"
   },
   "source": [
    "## Mistral AI"
   ]
  },
  {
   "cell_type": "code",
   "execution_count": null,
   "metadata": {
    "id": "F_ffZIusVf_c"
   },
   "outputs": [],
   "source": [
    "!pip3 install mistralai\n",
    "\n",
    "from mistralai.client import MistralClient\n",
    "\n",
    "client = MistralClient(api_key=\"YOUR_KEY\")\n",
    "\n",
    "response = client.completion(\n",
    "    model=\"codestral-latest\",\n",
    "    prompt=\"Hi\",\n",
    ")\n",
    "\n",
    "response.choices[0].message.content"
   ]
  },
  {
   "cell_type": "markdown",
   "metadata": {
    "id": "dJdUd3rxuJ7Y"
   },
   "source": [
    "# 2. Demonstrating different tasks with LLMs\n",
    "\n",
    "In order to get ourselves familiarized with how to effectively work with the API of modern LLMs, we will demonstrate two different tasks through the notebook.\n",
    "\n",
    "- **Task 1: Structuring unstructured data.** We will use a corpus of news articles from Colombia to extract from them some of the main actors involved in the events described.\n",
    "- **Task 2: Latent concept detection.** We will categorize sentences from press conferences after the Federal Open Market Committee (FOMC) as hawkish, neutral or dovish. We will compare the results obtained with an LLM with the labels provided by the authors of [The Voice of Monetary Policy](https://www.aeaweb.org/articles?id=10.1257/aer.20220129) and with a dictionary-based approach."
   ]
  },
  {
   "cell_type": "markdown",
   "metadata": {
    "id": "Swrq7rIn0hSk"
   },
   "source": [
    "### Creating an effective prompt\n",
    "\n",
    "There are many resources available online to get you started on how to build good prompts. I recommend you to search directly within the documentation of the builder of the LLM you want to use for the best advice on how to create prompts for that specific model. Here are some examples:\n",
    "\n",
    "- OpenAI:\n",
    "    - [Guide 1](https://help.openai.com/en/articles/6654000-best-practices-for-prompt-engineering-with-the-openai-api)\n",
    "    - [Guide 2](https://platform.openai.com/docs/guides/prompt-engineering)\n",
    "    - [Cookbook](https://cookbook.openai.com/)\n",
    "- Anthropic\n",
    "    - [Guide](https://docs.anthropic.com/en/docs/prompt-engineering)\n",
    "    - [Cookbook](https://github.com/anthropics/anthropic-cookbook/)\n",
    "\n",
    "- Google\n",
    "    - [Guide](https://ai.google.dev/gemini-api/docs/prompting-intro)\n"
   ]
  },
  {
   "cell_type": "markdown",
   "metadata": {
    "id": "OsrIbMYiz6Fk"
   },
   "source": [
    "![image.png](data:image/png;base64,iVBORw0KGgoAAAANSUhEUgAAAZ4AAACuCAYAAAAGcWsWAAAgAElEQVR4Xu2dB3gc1bn3/7urXfXeiy25SXJvyDYdbEKooQQCBGNIwHApX0huHghwA8YJXJJ7gZub5/oaHEjAhJqQYBO4CTVAYtyb3G3Zsq3ee93yvbOj0c7OzuzMrlbWSno3D3lsz8yZc37nzPnPW84Zk4t+4N8AgX14bOHFWHvK6v77jWursO4GPTjd2Lv+Sfxk3UbsPtaKHgedb4vHpOlX4L6nf4LbF2dBLK0Cbz34PTz9f8dR1dwNp/BPdF7B9Atx+6M/x/3LMgfOEw7048Drd+OOxz/D0fZ+99Vpl67B0dev06sMH2cCTIAJhD0BEwtP2PcRV5AJMAEmMKYIsPCMqe7kxjABJsAEwp8AC0/49xHXkAkwASYwpgiw8Iyp7uTGMAEmwATCnwALT/j3EdeQCTABJjCmCLDwjKnu5MYwASbABMKfAAtP+PcR15AJMAEmMKYIsPCMqe7kxjABJsAEwp8AC0/49xHXkAkwASYwpgiw8Iyp7uTGMAEmwATCnwALT/j3EdeQCTABJjCmCLDwjKnu5MYwASbABMKfAAtP+PcR15AJMAEmMKYIsPCMqe7kxjABJsAEwp8AC0/49xHXkAkwASYwpgiw8Iyp7uTGMAEmwATCnwALT/j3EdeQCTABJjCmCLDwjKnu5MYwASbABMKfAAtP+PcR15AJMAEmMKYIsPCMqe7kxjABJsAEwp8AC0/49xHXkAkwASYwpgiw8Iyp7uTGMAEmwATCnwALT/j3EdeQCTABJjCmCLDwjKnu5MYwASbABMKfAAtP+PcR15AJMAEmMKYIsPCMqe7kxjABJsAEwp8AC0/49xHXkAkwASYwpgiw8Iyp7uTGMAEmwATCnwALT/j3EdeQCTABJjCmCLDwjKnu5MYwASbABMKfwBkRHkd/G0z0P5fDCrvTgj70wGKzw2XqgcvpBJwxiHDRf2YbzGbAHGEKf3JcQybABJgAEwiKwLAJj8vVT4LSjrLDX6G/ux2pGcVIzSqEyRwFs8WEbkcriYwLJpOFJCkaEYgC7ILgOOFykRiZnDBFCMcsQTWML2ICTIAJMIHwJBBy4elzdKG8/hM0V27H5Pip2HXgMMwxyZg8ZQFSkrORlJKNjq42WCLMsNmiAVcUCU2k2yIim4go9ZIgWdHndKHNVYmenm5kRk2F1RIZngS5VmFLoK3PhY1HHKjudKIwxYxrpkWEbV25YkxgPBEIqfBUte1HtWsnWmqOw9ZUi8iWDjijs5E8cQH6eiLgJJHJyy1AbX0dMjIykZSQATPiibeNxIesH3TDbOpEl70THT2dqOs+hbLTpSieOBkpUbORHl88nvqG2zpEArf+uQuVTWQ9D/yumGnFw0v4BWaIWPlyJjBkAiETniOnPwfiO2CJMcPc1wlL8zHUH/on4vMWY/L0q7Dv0DFkZ+YjyhaPpsZmWMiCSUmagGhbMv2ZhMckWDud6Ec96ppOob2/A629DSg7fgBzigvR2FiBrLT5KM761pAbzQWMTQKHGp14fksvjlQ7dBt44TQrfrzEhgQbxxN1YfEJTCDEBEIiPA5XA/684U1YIs04/8IFKN3xEZqrdqB4cirq+xIQkz4b2emFyEqeBKedsgdM9LD3k2PNGQlbRByJjhWwCPGeHnT0V6GxtQrkfYMpxoWK6mPobm9Ga2cteiy9mJ53MRZmXDdkDI4Ta3Fpyc+wk+piMp1FE9ZG3DFpyMVCKneXuWRIZeqXcwK/vnwBVm2PxiVPb8Ef7p7grnzfJz9C5i1vu/+ce/sb2PfsRUNvVIhLcOFjPJB6G96gTJL7367CU0tDc4OVH3ThaI3HwtEr9ab5Nty7wKZ3Gh9nAkwgxASGLDxHD+5GdLQJbU0N2LPnH0hLd5GYtCIqyonktCTsO12DymYnVtz8I3KoJSPanCw2wUFJBEJigYlccH0kQiYHLFYXep1N6OhrgNNKIuSqwrHTu1BddgrZOZOQnjUF+alzEOPKQ6QpcUgoDr1wKc5+fN9gGfLJeygF6wuGsdL1y/EVHvmEnrjo5/jygzsx0djthu0sqR1li58arM9wCc9FL3cE1I5pWWb85sqYgK7hk5kAExg6gSEJz/GD++Cg4L/F0o8DpZuw5Z9/xNJlc2EjyycxLQeTChfgdGcd2ux2FE24ANGWfLQ196KpppaSDSYigrLbXO6EAjP9P2WvUSZbv4NSrCPa0EuJBQerP8bxk1sQb0nGjIJLMDHjApj6kmAxx8JOgWNrHFlKQf08k3ZJyUJs27YDoZqo9QUjqAqrXOQrPB/8qwXLX8uktPQV+FPtL3B+qG41hHIkgZfzHSnhEYSmqw+DcR8WniF0LF/KBIZAIGjh2b71H9izbSsKJxWguqIUp078E0XFGZg9Zya6uq3IKZiLyMQ0VHccQ3RyPBIjKJXakYn33/sUjbW1+N7tNyOKhMPZ30tutkjKZLOhv98Op9OOiEgHGjsO42DFZyRA9chJKkB2yjzERc5BpCOWrKsO/PVPGzDz7PmYOXdWwM2XxGGv5Xa8vbkAT5eshtI1Jp8c73trMzKfnet2awk/b/eQRwCEY3c9tRo7/+2JwfJun+RxK9371uto/c4t+GDJ04Nv/5JYSI2QytYXMG/heX3y84MuNn/1E+4jdy3K2ymv3xcfTMR/DLjDtNvv3XZl2cq2CccFy/Kduw8NutrkZXvq5SlX7i6U3IiCiJWTNSf9hOy1ez/oIUHRju3kUlbb2iujcZjiQA992D14rRDrWX0BJxwE/BDxBUxgCASCEh5BHNa8+Evs2LoDZHtgUq4NZy+ehNjEaORMnIZkiufAlQREWOGIaESbs5GCuMWor+vFjq8PIScrEwsXzKSFovT6KVg7dhIghwlmq40mRSHW04fO3lpUtexDZJwJObFC8CWF3HHpaGtrw54tO2DqtWPWvPlIz8sJuPnSW7g4qeWrxkrkE7LyBh6Lwnfilc6VJlG58EjHpLf/0gELRVm+IByrJ4kxKO1YkefeS5/6GbIe+6k7ZuIb11Gvo9SG82TxFnn95MITaPulsttU2qcUHq2y0wdcoXLrTRIypVv0tX39eJmSCuS/JBo3LR2CNU2xrgHREf6sJlAvXBuD4lSKPfKPCTCBM0IgKOFxOTvx0u9ewsu/XYMkWw8euGsFoiMjcKCsDDesWIEUSpVua7EjLioeETHtaO6uJkdaOsVlMtBL80NqUhLtYNBFnjU7reeJdicZkH+NXsWBro5W2PsbYaVye2lNkM0ahaiITIIRSRLnQpejm7LiWjAhsxgRthjY6SXXFsAaUzU3jyRE8klOfp40mUtv3JKofLfME8iXrAypLDXhkbub1CwaaWIV7rfn/oOGhUcpdv6SJJTt//lSj0Wm5Q6T2i9PyFCLifljq1e2kq1csAW2Uj3ftCzySdr4j829+HA/LVge+C3It+D5S6LxxJc92FJuxx9ujnUf0bKKnrgkCkvzeY3PGZlx+CZMgAgELDzOnja0Vm/B519tR1lFJbZ8+RVuvO7b6CZFScrNwGXXX+ZOFOi397sXhEZFOMh91o3j5TUomryA/s2K9u4mxERGUSwims6jt1In7WZgjkRPF4kOreGJoC1zLBT/cVI53Z29MHVG0PEISrbugjXSTtV2oKPZDGtMDuLTMpEQTVvtmIy9sSonOGGSlk+okoCoTaJKsVjyNzFBQW1SlSZI5QQqZXApkxvkozFQ4ZFbPGrxHa17ySd0ZYaZ1H7vid43ruSvbKGtRmM8ekK887INbleiWqbee0f68auvPBZPFKVI/+qKaLcVU9nuQjy91/hzxb3+nVjkxnNaNc+ITOBMEQhYeBq+fg1Hdr+HrDkXoNWRiEOH65GQnIbMiRkwxdqROiGBrBjyslF6dEdnPVJiYhFBKcut7T0kc1bExSaQ0Dhpi5wIdPfYyepJgM2doUbrf8x2ypCjY9ZYsoKi4bTYSWJcMPdS/KePrCOrHZUn96C7tR6Zyfm0I0IaumyJsFojkZkiWEX6P7W4g3LSF1KQgxUe5QSqJzxaiQBDifGoxUWENirdXEMVHnlcSa3soQqPPBZ36/I1eHV9vGb6tdLqkYuPYPl8eVR4YfH+RVJuyr20oPTawmCTVPTHG5/BBJiAL4GAhefE67fCTpN9T+IEvP3p15h38QVIn5aBbQc+RdH0PCTGRuH4wZO4cOEyco7ZUN6wi9bm1KOoYB6qa6vISrHC1p0Ca3csCUY0MtOL4OxMRltXAwlYNOKS4inmY0dfVydMtkjawcBB2XBJiIlNon3ezNjxxQcUK6rEoiVL0OM0Ueq1A8kJ6ZRqPVm3f/3FbaSL1WIfWgF/ydUmD9b7c7XJg/7y9TZyt9XhF9eh7p67cc7AOiMjMR7permoKl1/au4yI8IjWEJS+UrLcPkR0eLTKlsuPFpuTP/JFN7xKb1sPWU6tSA+M7It2HnSV3SE/uasNt1Hhk9gAsNCICDhaTr+BVo2PUNCsxS/eOmPcObl4oqVV+HL0vfR0FGKi869CJZ2M9ItE5AfNxVHSw+hvGMLum2nkJNWCEtCDKra6pFhL0JR0jzk55Ofy56E3g6ykigF2xZPG4VSTAeOdrQ3n0AU7fEGUzystPbHRBaSyWFGQ3UFjpbtQ+aEbMp+s5BlZaUFpj2YXLiQ/i5mnWn91Nxs0rnKSVUe+9CaHNUSB6Ty1GI8etlmwrXS5BqM8MiFVbq/5A5UY2JUeJTXSq7FLsVaKPl5UlvlAqtldQkCpWXhBbIgltfxDMscwYUygZATCEh49r21GhFVGzHh0nvx+//7B8rsbbju3qtxsPxrNNeW4bIl1yAnOgeuBgdO7D+KIwd3YfK0BLTbq3CgvBTJ0+egiUIxSbSbQWxnPNrrgRKyjAryKcMtMpE2BrUhOiGB3G+UCdd0hOI2lFgQnYbo+CxKRiDhoQWnEfRf1WnazaC1ldxyNthio7Hn4AEsXrIMcdEpfgH9+vJkd0q0+pod7xTe0mf7fVbXq02Oyh0QfvnmVXjrplWq6dS+q/R9M86U1kMgFo/QePlELYrYPdg1sMOBIEbPbXkQ28+6dXDXADWBFcqRi5iUIi7s8uBtdXjqr1a2FM+SW2JaLjkt4dF3OXq6XMulpjUofng+u9lCPqNwgUzAAIGAhOefv7gCE9L7YSlYDEfeDBxqasTsJdNx+sQh2pHAhemUabb5w09x6vhJEhKbO9azaGY+mhrKUVp3DK3JlFgQa6V93Ghr0M4EZCdPg9kVi7SMAhRMnYH4hGTa8SCSrJ8+OPpq0VDbTBZPAjJzJsNOi0bbe2hxKSUxVFD2XJzZ5N65uqalCdFZqZgwuQj5SfkGmjw6TpEERM+9NFytGa5FnoHWVxItIwt8hfU8r1Nq9c5q0bWm3D5HiOlMHEibvpLW73BsJ9De4POZQGgIBCQ8H62aiOyJhYiYOBN5cy9ArzUZ8bTpp7OhFY6ublSU7kbD6RPoiaR9pqOsiEpJRBplm1WXHUQn5Q/UxXehxtSMdFcu5maWYOrEGThyuA7xiTmYVjgZzfVVyMxMRWQCbaND6dalu/YjI3sqcvNn0LoeB1paOmnn6wY0VlbB2d0DW5wNtZ2tmHXBYlTRlj0XFl4YGiojWIoyDjVS+62NtPBoLawNpGuUFhBbOIHQ43OZwPARCEh4vv51EVLz5sCRVIi86RcgJj4bX//tE/TXViOLLJ7Opib6mo4d7RG0UWMKJQ5MnoD603U4eWQ/YrKcaI5por2nG1CQkIcMigOZLYXo60+g+MxMRFnj4CBrJjcrjtbx0JY59h5s3VmKBSXn0ycUJlPMpxcx5gQc3rMPRw8fQUpmGiJTozH/vLPR2NeBxs4mzM8qGT5SZ6jkcNlvLZyEZygbiQo7Vld1OFGUYuGU6TM0hvk2TECPQEDCU/bmPNoxugix069E+qRzKa36MPZu/gw22k06rr8FyTExqKyvQWQm7TBgJhEppO10qqrRWHccBRPtOFp/AJHpQH5aOg5uJwnqmIKkzFm47Mqr0NxI8QlaipFEq8ztvS2IphTpqroWnLX4fEoqiKHdrjvg6jDhxNGTOHriOKYunIWZS+bTzgi0ZsjRh3ZaAzQ3/1y99vJxJsAEmAATGGECAQlP1TsL0WmheEvmuUgi4Wlq7cbmj9+FpWk/JsV1IyU+gr4u2oGUycXopV0F2um7PJVV/0B67GnEkxFUR+KSWgCkU7Larh20uLAGyMg/C+dccDEqG+iLo3YKCiXSglNaNBpJ+71RihvyJxbTd3gmkksvFeVHq7Fz1wFUNTfjrIvORlZ+Btrbmihp24QYqwXFRRePME6+PRNgAkyACegRCEh4Sp+fBksGxVvyaA1NEq2/oXU45bu/QlznIcxO70RDxUcQMpptSQvR6kxGVUMbcjMqkWKqhKkWJFRA9nSgvFzMmu4ibemlLLfExOmwR+aizZqII20NSKQdCQqTptMWO8LuBnG09U4KMnKm4EhZBbbsPYBpM+bSPm9UhtmJKFpimhYVhfIjx3D5DQ/otZePMwEmwASYwAgTCEh4Nv10OpxJZGVMK0FzCn14LD6O4jvH4Tz1FSZZ9yDe3EZb3ZAlc5w2nI5PQE9vLmIdB7GY9gztIbE5cAyYcg5QQ2nUtCQHsblANAkQLe1BTGYKuhOLsbW6CQ31FhSmLcSiWUvQ1dyFOEqnjs3Iw5cU39lx8Cgu+cYVbqsohjZqy0uIw8mDpThy4BD+35MvjjBOvj0TYAJMgAnoEQhMeH52BcVwDsJ60Q3omTQVO8p2ofHUJ5gWV4YpZIFMSwVZIKBPJAANDRTLyV6CjtoTOF1aCydlRqdMBbopxpOUTR8gJYGipDj3Bp/tVbRhDlk/UxbeiP31HahvcSAlKhvTJhQhgr5YarUmIXtKMb7acxC7DpRhGqVeZ8YkoogWsDYdP4Y/vvESZi1YguUPPqPXXj7OBJgAE2ACI0wgIOHZSwtI9299C33zaIeCGfSZA/pMdcWh9ZgUW4MS+jpBNH0AknQGx/dTLCeekgUopnNgE21LT9uzCZ/dKf4GucSieiB8DSWTdrixJE1FX7cFls4oJMVMcAvM9kMHsPvATlxyyc1YPG8RThwpRzKlW8+cVYJde8uwdfsBFJIIxUbYUFwwETXlh/CX917HxTfcgaXfvnuEcfLtmQATYAJMQI9AQMJTfeRrvPrCLYidtwTTLzyPdhogZWncixR7KZJ6j4L2+MTeXUBaHCUSnAL2C6JDlkxEp3tfUEy7PAcHI+rRF3k2ic4c7KmupN2pE2mHHCtmFcRjUrYDp45tw6ED25GTNxtTpxYjm1xsrg4HpuXMQkd1LxprOjBxwjQykWjj0e462um6HpUVB3H2dx5E/vT5eu31Ot6/83e4da3n89fCQWvu5XjuyUuQ5XVmDd5Z9Us0X/tfuCewWwRUn6GfPFrqOfSWcglMgAmMXgIBCY/QzHdeuwl582fQFmrxcNBam8xIJ1pP74CjcTvioypwguI4Tvo0ShVZPnZyr9nqyMUmfBiSYjrdRWk4nrOQPu52DiUH5KOevrdjt6SgvqYH/e2HMDWzC+bWw+jv6kL2hOlw9LeSiEXRjgR5iOqNQaw9jRaOuhAbbUV6dgLaeupp4WglyqqqcPMTvw2gF8QJeoPpSh+RkcRo2X3PyUQmPCd0oa53bJwga0N41jOAjuFTmQATGAcEAhaeEyffQ3xqC33dsR9dnQ6YnWacOroH9Se34qxZWXD0VOAA7WBw6iQlDFgSkNzchpgWiuPQf+V56aiZcxeyshbD3tZH6dUn0RsRj7ziElRXHyRxOY0ZlJbd0dZFadtJ9JlrWhPUdRoLC0joumIRbcqExWUHbWCN7rYTlM/WhrLTp5C16Fqcc+1Kw921ad2D+DDnp3jqKgo4qfwcVX/FQ6tKsWz1Q7jS/YHT8JzQWXgMdzmfyASYQBgRCFh4+h2taOn7CxkwsfS9HdqngD5N0N/Tjv6WCqDlOHppV+kDe77CAcpsy8k1IaXFBRslD4C+cl2XtRB1RTfBlpmB1rpydFcepe/pZCO68FyygBzoqTmCkrR4nDzdhEZrClJim9FXtQ2zc3KwbNE30FTbhU2bPqfPZDdTNlwP7QXnIsGqx93PbKTPbVOKnIGfcrI++f4zeGgjZULQ77ySuajLudwtSMK/P1FzNV5dOUtFeEQherd6IR5dtxyz3UL1ESqET6jSz9tdJ57bdM330bX2d9hiWuC+pmtA/Fa6Xhq8v9LNJwqgermCeP5qm+ermdGLvkd1TRNdgtc8iuQNz+CPVWaqURZWDAiocM2LppUDbRJhCe18bEcJXif3Iv+YABNgAmeCQMDCI1SqpfNr9Padhstig4u+mWOmvYxtfd2I6mxBU3kZtnz9GY5UbEMv5VanutJgqqlFRL8TDebZOG2eCVeGCX195YisrUREzhJEn3Uj+ikIVH9yPybaXDh4ohF98QWYNT0OPdU7Ed3ViPNnL4al34xjR/ahvr6CUqwjkJyciMkzLsKy6+8zzEpu7UiTrhjT8bZqhEn/kRcj8OPVvseEMtZUXT3o4jr5/qvYt/B2L+vog7w7vURrGxbgontuGzgHkISj8JpHBiwv8f6e6wRR8FcuJWxouNrercrxEhuprqnsmjM8TvhEJsAEho9AUMLjcvWgsfY9fLV5C9ImTCHLpgCVxyoQQ6tBO2l7grbOBrQ4W7D9+A50dvWiqb4WCZH9SLAW0Afe6KNu5E5zdB9BFn1vp85Ma4MKr0VvJO1SnW6lcrfhOFk88anzUTg1BW3VpaR09ZiZnY+MiDgkkNgdO0RuOdpqWFgzdOMDP0N0nPAFUyM/YXJfj9h7HiYBkP9ZvFYQg9KS/3bHdrSEZ/Y2b9FRu6u3IIiCsrfkMS/Xnpr14evi8y5dKTRawiO/l1Dmw6sacNtvlmMeduP5lR+jaMAC8j5mhB+fwwSYABMYOoGghEe4bX3tfjz73EOYNW8BfabaBmcfuXU6Tag5WYm6pmo4YsgVlmxHC2hz0P5upKYnknOOzqGYTxp93761+TR9OiEOzY6J6I2aiz5XKtLTYxBtO4T9h8vR3J2Gs84uISE6hq6GU5iekoCE7l4sKpiGtlPk1KLdq4uW3YhC+gaQ8Z8/4fEWImFSv4tcUHJX21bk4HR1tttVNk9xU7nLTjjkcZupx4fU40zewiCUo12utsUjz75TipnS4vO4E41T5DOZABNgAkMhELTwCDf95JMNtFP0TtisEcjLzkMl7URdVVmLXmcnfcKaPtqW0I/K3ma02WgPNxKdlroyRDvr6HMIRdi7/yAlFriQO3EO0hNmo6suCV21jSjMqEdFcw0O1Doxs2QpmluaUUtZc8WUB5DcehIzY1OR1m9H2qxzULLivwNuu8eq8RYE72w2pViIf3cLD8WrpJiJeHNBLNZjR+4Vg643NYtHmYqtLzx65QYnPFLdnn1yFr4aFSniAXcxX8AEmECYExiS8Ahte239Gmwv/RKZuemISSHXGW3gmZiRSB9H6EFkvAs1XXXocJmxd+8p2GkH6Txyp6WlTcHJStonx9qO3Lw0+rdcdNZn4eA/jyPTXovoJBsaLbFIpM8cuOgDcPv2bMDMiR1IbNuEs9OnY8qkCzH/1rVBoZVbMvLgvRCcf2nhtsF1PVrp1JdVPIOHN0YMio+au8pf7EiqtJqrTajb8hesgwkLHheZeJV3ucEJjyiUH2PKvXPw5dr6ARdcUCj5IibABJhAUASGLDzCXV/Z8Dx9o6eFPlHgoj3YLKinz1J3O3rR1tWC6vpTyMidQtvodCImIhJxlL3mpK+KushKcqGO3GsOJEZbUFcZj0Ob6e89wKT8JDTQIiBr9FkwmTNx6NCHmJRZjWzrLlyy8B5cdP0LQTVWvCiY1GjvawQBePj9CbKMNk/qtSRmtYMWkLarTchK8wicaOE0UUaakFWndJH5lisKjyRUouvP915qcSNB9P5UmYf6vMu9MtyGAJUvZQJMgAkYJhAS4RHu9vGJ36PBchhlR8to9+lq5E6bjtrmJrj6I5GWSpuFJiahhayho6V7kZU3jSwiO6oaS2lNTxRsvZ2UqUbiU26HtSEaJbMTaJHpMdScngiLfQrs9mokx53CNy/4JpZevNpw47RPFCf5PYu+7zPxblpH6chX/WQw+0xLrKSsNEE4BCtISskWYju/+FYFHtmYN+B68xPjyb4Lc7b/1p32LPzElGghfVv8yeM7vuV6hEa43iudWrbDgprw6CUxhAAwF8EEmAAT0CQQMuER7nCg9Qu8/PlDJDIp6KTNPTvtVmQnzaQNPzOQPjEJ5RXHUHHyBGKi4ikluxXVbaeRnZXu/nR2T58JdVWtqD3cRt/gAfLyaTucqtmw2ovh6unAbdffhKVnXxvSrlQG7tUm/5DeUFaY3iLW4bqvUK5vNtxw3o3LZgJMgAl4Ewip8AhFt9POoLvaN+KocyvKT1G8B5MxNXsmmmgHgurGE0hMi6XdDWjXg94+7D9ZTh95y4e9tg39rj50dLfSJxI6aTucKPTYaRFpeQquXbgSN154NZLiaKfRMfQbOeFRT+8eQ2i5KUyACYQ5gZALj9TeDorRHOvYg7KGHTBZe9FPiz/bOmrRTZ/INsXaUE9WTsspSjbImkiLSXtgd7nQ0lqP7s5a+kz2TBRnXITzJtMnthO9t+sMc56GqzcSwiO5B5UuPcOV5hOZABNgAiEgMGzCI69bY88JtPbXop5ca5X0mew6SxN9EyECGa1x9LnsZLS7HBTDyUU06Ls7iQXIoS+S8o8JMAEmwATGJoEzIjxjEx23igkwASbABIIhwMITDDW+hgkwASbABIImwMITNDq+kAkwASbABIIhwMITDDW+hgkwASbABIImwMITNDq+kAkwASbABIIhwMITDDW+hgkwASbABIImwMITNDq+kAkwASbABIIhwMITDDW+hgkwASbABIImwMITNDq+kJzaQ68AABfpSURBVAkwASbABIIhwMITDDW+hgkwASbABIImwMITNDq+kAkwASbABIIhwMITDDW+hgkwASbABIImwMITNDq+kAkwASbABIIhwMITDDW+hgkwASbABIImwMITNDq+kAkwASbABIIhwMITDDW+hgkwASbABIImwMITNDq+kAkwASbABIIhwMITDDW+hgkwASbABIImwMITNDq+kAkwASbABIIhwMITDDW+hgkwASbABIImMCzC89ot8fiZeT2Ovn5d0BXTunA4yw55ZblAJkAEhDH7k2OP4vNtj6HoDBDpfecm5DwQjVfrXsFVZ+B+o/UW9n1PYMHFL2HJ2iqsu2E0tGIfHlt4MTZf+w989rgwksS//6F4naG5NpzGRUDCIzxAP/gkXrOH0i5d4wYwnOIQ6rK1OiPU9xGhKQfOaBjsXMehEmDhGSrB4bl+qMLjwtu4Ie2H+MxkUlSwAI99sQkPzQh1vcep8Mgxip32CW5TATw8k7Z491CXzcIT6oeDyxtpAuH0ZjvSLIbz/pLwND/49wELZDjvNvQX13AaFwFZPCw8Qx1YbPEMlSBfr08gnCYY/dqO3jNYeILvu2EVnn3XvIWs+78arN2NKr5UufvObLpU1y8tWTxGypZM6dODNZCbwKIIrD1lldErwI9fvgzv3PkCPNcA0QUPyPzz3td5HwN8zW/xnj/Yd5MXC+GmkmvSt/s8AvWs8yYs+5+6gVPUTHjt+ggTUNb9p73MfjX3glTn1BeqVX3dEvODj+5y+8QlNvN/8LnXm5503tuFq911lrNRc0uojQexzp4xM/cHa3DOe3d7+bG17lOo4vqQ30Oy0pf//WW0rLhgsO/FdvR7jQdl30iT+St1V+CVtAcH3StC+S/e4O1y0eIixTyNj2HvvhWejzVrenHvfSf9unLUhGfn6nmycaQc0x5PgpHnSlnW9f/7P2i5935Ib/5a40mtXkr3vdozYWRMCA+I8nlX9oPyOVPz2ijbpv2Mep51fxaP8b4G9Lj6uup9X2S15h/B7ac1hv21MXhp8X/lsAmPEAuSN0jogB9++m2ZsIjQXjH/aHBSF8B/Y808v+IjDVT/ZUudGOP1gIod6/1vgbjapE7d+83/HQzmefvvfQfCztW34tMbXx/w9xq1eDwTjufh8eWlVx9pIpYLijS45fz03pCFNv746Czkma7GmwMBcukhT5OJj3TelKKH8bUssUSaOOQiYPTftPpbqI/yPkLbXpi5e1A8lcLrmZg8Ai6Nifz841j0SI37WjVxluorfzkS6zYb+fku3Lr+a3cfq4m90j1sbAz79rda/dUeb2V/CuPkOyVleGowucE3KG2sTmrPle9YNSo8QnvOf2b+4FhRsyDUxolaXZXnGbFGlMKjxu27t9rwpkaSlJF7hJKrvvD4n3/UxrAa3+ESG3m5wyY83iLjeTuQJkG1B9RI8N1XwHzL9jcglJNAIMKjJozyh+x/i7XjXiL0wIRHLsrC1UpmevVZd4P6BPMX03X45BPzoMAL5dx0ZJVmZowac6E+yvurn6edeSNcf9VfvjPw4qHORktcleNL/WHxLlNNLNXKF8pSGyeCJeZrQb0Eufiq9bGa8CjrrxQ7rXGp9vKkbLvei4Q0luSZb2p9p6yTlqAouRoVHrU+C25MqI8xPQ5K4Qk0fqyVXCC39EPJVU94/MXdPfOH9xhWG+ujWniU6aNKMdDK9NHrfLXrlGWri5qIUzlZGhcerQlUPrmJ7poXT1+pYbUFJjyetEmx7t4TgZH6FLnbK03uogX0Kyz+4sfYcuFzWPKl8JauXyetvlJ7cJX97i9zSN5PP3Jqpbaqi6dWerLaZCBZjeoPpnr7jbygqE+wvuWpCY9yuYHR58Pf2JYmDP+iJbltAaX1plcnrXsr6x6o8CjdbdLEPUUz3dl7TGiNMb2JWM3iEV4u9Fx0EmejFk+ouOoJj3Rca/7R6j+t53s4BWjYLB492MrBJm+kP5+jmjCpCY/WOgblQxmo8HjHhDy1VrrExPOUMRn9Sd6fZaQmPHr1kT9cQpxp0n/OdVsYW8lN9LsZ2/Hp47vdYiSKkPpQ03oZMPLG6O/hlx8ThUctS1JdeNTWiUljymOVqFk8ynuEr/CotTEY4ZHGTYMsVqkc90N5roIVHsnNI3/e5S9KovDojwnfWK58HGunNquNTalOQgl6sY9QCo/afOVbvnKsqo1deVzQu+3+5rozuc5MYDuiwhPMIlOjD4gyqC4NxaFaPEorxN9bgd5EqH2t+mSoJjz69RHLani0Hue/K4qNsPhMcq8JwWRJjLQWN2oJj5HJKzCLR3+S0XINGLFmjJwj9Uk4WDyhEh61/jPSd0Zf6IITHvUxHrzwqC/t8Pd86r8UvQS5WCvLCk/h8dRSOf+w8NDEp+d/1RowRoRHy9RXm7SMWzyim84TkzBiiBp5Q1Erx4jwGK+PwGyV6VHcfHgjkl/b7LZshIdu4dJTuPaBUrxx+Kd+Vz5rxXiUJrq6QGlbeb5uwB8OZkYp3RnKhA7lpKw2iShjD6NJeLQSbYKJ8aj1i7JPjTxX/l1a8liXtqh4koe039al2KaUHKPMGvONyxn1JHg/a3quOL05KlTCEzxXvXZ7H2fhkW33oAygv3ZLCWoe3xaQ20dtAKg9oGoPs9bgUxMZ9UA0de5Z/4lztr+Ky2gy//6fb8V6d/vUs6P0YljGXW2epAr5pOz28w7UR9ouRXIfaKU3q6U1yx9R6c1JmQmnDLb7s4yU56q5jHz7zOM2UGYx6rlyJX+34IocjTEetbHmcQP5XxmvnGDUrHyhPwKN8UgvbvLECHlMTR4bUd5TmlwrZUsmlC8uUsalfJwaHRNq2VnCPeVZc8pXPOWz//tbbkPSm68NbjOkF/sIlfAY5+r/RVZoj7/5h4VnYGKWTw7SoNDzqxp5M5PKkvtrhX9TrrmRu1XErYA8D7T8gdJbj+I9sXnWuQjlKyd1uT/ayDoecU8m8af2ZuQvmO7PalAb7HpWprQ+RzzPd/LzJ6pKP7zWmi3vtQwFeHRgzY18Pyo9gZPa8e21nyHjmfMH97YaTRaP0AZl3wrjRVxn4702S9lvvhOM3O8vPgcfPrwXy+6PGkyCCeS5ksdnhX6U1jZ5Wyb691RrnzDGlF4FI2NCYKB83tXGqJyVWoxSviWY1nyhfK58t8zxPPeh5aovPPJ1dsr5Z0wIj9Ykxf8+9ggYs9KGq9167oThum94lqvn/hmJWvtzbQ9PfcbHmDjzXIent9RKDTq54MxVke800gRGUnj8JSeMNJeRuL+e+2ck6mQk0y6U9RovY+JMcw1lH+mVxcKjR4iPh3xjVi2kyp0H1GNq46NDhLZ77zagvhvHmaahjMEqEzhCXZ/xMibONNdQ91Og5bHwBEpsHJ5/piweXx89DC/mG3vd4h0jEdpnZC/D4ebgHW8R76aXnDKUOo2XMXGmuQ6lT0JxLQtPKChyGUyACTABJmCYAAuPYVR8IhNgAkyACYSCAAtPKChyGUyACTABJmCYAAuPYVR8IhNgAkyACYSCAAtPKChyGUyACTABJmCYAAuPYVR8IhNgAkyACYSCAAtPKChyGUyACTABJmCYAAuPYVR8IhNgAkyACYSCAAtPKChyGUyACTABJmCYQBgJTx+eeNmOGdfH4OZkw/WXnShc34fopXF4dFIw1/M1TIAJMAEmcCYIBCA8Drzyxy680mryqVdEUiR+920rJgypxkMVniHdPIQXj5V2hBAJF8UEmAATkBEIQHjk3IZjch2OMkeir8dKO0aCHd+TCTCB8UAgRMIjTrZFF1vwt8/7UTVgAeUc78Kyz52DHL+pcIP9/dN2PFkuWlDF823I2CW52pSTt+9k7n1tLF5Y0C9z1anXx9si8z7nlLsWEfj3O6Nwjqzn5fdRWnYOr/ZF4KnrTVj3p36IZdEHtyZF4/+WWsbDOOI2MgEmwAQMEwih8PRhk5fLzYH1nzpw8TKb2wUnTtLmwYn9xI4OrCz3uOiEv39vtxn/4o7x+Bce72sd+Oq4CedPtiuER1kfJRMxJiSvs1qd5HUUROiXppgBMRGud+IyhVABbPEYHn18IhNgAuOSQAiFRy8xQD4hq03O/o7rXSv0nZFz5H0caB2ke0hioyUwLDzj8kniRjMBJmCYwLAKj2jFyOsit2iU1kIgwqNnaRiZ/NXOoQSKd3sQtTR2wOryV0dJiPrwJf3R40Y0cm/D/cMnMgEmwATGHIFhEx7BtfbNXVZZtpueRRKI8KhZV3rlq7nalOXI3WdaFlEoRG/MjSNuEBNgAkzAMIEzJjzeMRzAO14i/v3JcstAjEdM3d48OY6SBkzwf61WjMeI668P22QJAGp1eqolalA8lcc9lMX6Vi+MpzVEbPEYHn18IhNgAuOSwLAJD6UTeK378c5aE1h7H//m0ih0f9Y3uIBUnjGmf62waDQ4i2faPBNe3u1wd77aeiTtrDYxOUFwswm/4vlCZp2YoSe5GDmrbVw+U9xoJsAEdAgEKTxjgStbJmOhF7kNTIAJjD4CLDxBb9Ez+jqba8wEmAATCAcCLDwsPOEwDrkOTIAJjCMC41h4xlEvc1OZABNgAmFEgIUnjDqDq8IEmAATGA8EWHjGQy9zG5kAE2ACYUSAhSeMOoOrwgSYABMYDwRYeMZDL3MbmQATYAJhRICFJ4w6g6vCBJgAExgPBFh4xkMvcxuZABNgAmFEgIUnjDqDq8IEmAATGA8EWHjGQy9zG5kAE2ACYUSAhSeMOoOrwgSYABMYDwRYeMZDL3MbmQATYAJhRICFJ4w6g6vCBJgAExgPBFh4xkMvcxuZABNgAmFEgIUnjDqDq8IEmAATGA8EWHjGQy9zG5kAE2ACYUSAhSeMOoOrwgSYABMYDwRYeMZDL3MbmQATYAJhRICFJ4w6g6vCBJgAExgPBFh4xkMvcxuZABNgAmFEgIUnjDqDq8IEmAATGA8EghCeGryz6pf4Y5XZzSd60ffw6spZOqzEa5qv/S/cM1/91P6dv8PytQ1YsfohXJkz+tEL7bl17b7BhvjjFO5tN9KWTesexK+2Rbjba829HM89eQmyBlqvd73yeOE1j+Cpq9JH/yDgFjABJqBKIEDhEQXkg7w7B8RG+Xffe8gnpGX3PachPGI571bljBHhqcG760px7t3fGJh8d+P5levRdM2jKhNquLddvy0n338Gj+0oGRAb3zGix2LTuvWIuXsF5rmHj8gq9r7nNV9SjD3LJ/Dryxdg1fZoXPL0Fvzh7gk+l/V98iNk3vK2anFq17jwMR5IvQ1vmMWXLuU58vIizCvwp9pf4Hyf0r1f3NSE2lj7hu8sR9Vf8ciLEfjxas/LQ6juFu4vWaFqJ5fjn0BAwiMMyIdXNeC23ywfmCQAtX+TbukeZC9Y8ci6Wfjcz2QiTFyPV+dh3rYaFI0Ri0eJ3Xty9hwdjW33bouvUAhj4qFVpVim0ZdaLCQqwsvKi6aVBixp7cEtF4HhEp7ERT/Hlx/ciYkD1fjgXy1Y/lqm+296wuOx/vVf3s70JDacwnOm28L3C08CAQmPJCSPrvMIj/iG+rFbMC6D1oSj/RYrCdfy3wjiJJaj5WoTJqQPc36Kla6X8NDGBjdRpVvHH2b39dl3Yc723w66CgUr7K5Mod4foQImmEzz4d2+0HScwO6OjRO8XFCBtF2ohTBhS+02kS3lcUsOuDLJokre8Iy7bd7HxTZoXx9YG+VtSVd5GdGzWtRYyGsg9XOw7jY9y0SrtdJ1Hyx52ktQpPOl429aFuGsszZj+/YleH7LRtwxCZCObVhcgqKt27HXcrtfi0fudtbjEVjvDP1sFp6hM+QS/BMISHjUrRuPqIgTuNqbrpbwyGM/HgHzJzxCHMETAwjsbVGY0P57W97ghC1NxB7xCqy8QAaX71t8YG1XWgneLwG+7jrhfmuqrh4UOv/XB9ISQN4W9UnTf0zPn0Wj/nITWP0Ey+O231+JFbc58Or6XZquNmWpksVy/9tVeGqp7z0lcXkn4g7cunwNlR0/WLZkYZ27Yjm6X31tiMIjPi+b6fVB+Hlc1MK/78PF7pc08bjvC8h6RF4zF1+s/RsqTQsGXqK83Xu+L2ve97vwW5ehfLtpwNUm3nOpzMsh9NFd5Fr1xHa9y/e8vPn+u+j9kJfnr27CMXLD3nMZjqx6RWyvz4uhFivFi9YwvVAGNjL5bIlAQMID+E7MUgxHO34j3EpdeLwnIGPCo3TB6Ll1lG/S3tf71ms43j6FSf/h9yd4WVKBtV2NjXxyF/+8t+SxwRiS90uC3vXGHwhlW/wJj7w+0h3UWEjjQ5hYArFg1Wp96IVLcfbj+9yC8HPnnYN/VovxyK93nFiLS0t+hrLFT6laO8K5cuF5440+fOfmt5B7+xvY9+xFkMTul29ehbduWhWA8CjHoLIv5X0nnrtlUFAAtReQDaYrZZa17zOrFpOT95X3S4ue8KiV/xGar55LYvELWTxYEIKP0HR1hkx4jNXt3eqFg8+O93OjzUrwvsjDAvade7FvwZzBEIHxEc9nDgeBAIXHIyLS29jSe+9A19q/6sRmjEzwxoRHcLV5u2D0r5PA+bpwfK81KjxGBc9tZW0v8RId33v4b4My60s+EETB97Uw5PW7tMY7w873emNDy1hbhLLULR6165V3Fuv9EWJUEzHEmKJW/EiyOiQxkIuQnvBI1o5WPEgpPO/WLsPblGggWD/SnwUX3af/04e7ScD0XG1SVqjSJao2/jzjtnLQre3xCvi+gMjdeOpeCtGSiL3nYbd7XC1u60ku8C88WhaqtuXqKW+2qpvWU7crc+R/FkeK3A2YquK+llitXrDDb5zR2Ijns4aLQBDC410Vf8kFnjPV3+qkh0/ZOK3UY3Xff7gKj5bbzjerSd5+tbbru5/0hUdI8gg+dqXtgtSO+8kz0wJzYfprrz/h+fXlye4sNrWfJEZqx+SxGylm4+88QWyEjLW2gWSCu55ajZ3/9gRS/n0r3vrGX9yWk57wSOKgdDtqvWSI7mVBeLzdXkI9Pc+FY1BQJGHStkhF4RFeStRij4EIj/J6oU7aL3Ae4ZmpIhziS4tYNyPCI1+yIPWZ5IqXXmKE2K1/j8xwTa9crhaBIQuPYLY/UXO1TgaSkRRZfQFRiw3oT8qepofS4tEbUoFlZvlvu7515V94tJM+9FohHvffFt+6K19GAmOhdB8Zq6NwVrDCI1lKyiw15Z3lrjZBeBbL0rFNprPciQa3QXTZGRUepRvav8Wt5zL1tRDUnw/PeYLwKF9KvOugb/EMRXh8X4gCEx61e/uOGCPzj/FxxmcOncCQhEeZk689QRrpeGPCIyQXeAdbPetj9CboQIVHyNjylxashV+vHuoPhn5Gn7fLTr6+xr/wCG+/vm4uz/X+2mmkLd4xAW+/u/71u/Hn93Nx3dXSglFxrKiveQpswBt1tRlxswl3VgrPebJ1PZJo5Q7EiowLj1Jo/bVfPLZn0fcHX/R84zWStSCxUo+jeF4WlfcTz/fEiZRxFGV5vvX1xHK8+9FojMdTN/+utqyB2LHaWBHmpt+avjewFkzd9RvYaOKzQ0kgQOHxdhMpM0zOhPAo06Hlrim9Se7MCo+Ynq38qZv8+qIrWR7S7gDC35XZfUrfvlI0pUQQqU7eLgn1dTdyd4W/tsjL9u0Tfyx8XY+h2rlAKTzq6dKehaZa2WxSu5XCIywOVYqWlKQQiPBIfevJQhQncymO6nnOROvjvHvteHZtqbta3s+g70Qt1t27PGUCh7yPhZjTd++dg39ssAwuIFUev+lbGdhQs1Dm5dAq3/ffn30yDW96uQv91U1PeHzbJvEQ4kfSEgnhLGM7rIRyauWy/BEIUHhGFuZQ13eMbO357iNNQHKp+UsgGOk6+r+/r9srvOvLtWMC6gRYeHhkjBsCggV0zhNRg4s+R1/DWXhGX59xjdUIsPDwuGACo4YAC8+o6SquqF8Co0p4uC+ZABNgAkxg9BNg4Rn9fcgtYAJMgAmMKgIsPKOqu7iyTIAJMIHRT4CFZ/T3IbeACTABJjCqCLDwjKru4soyASbABEY/ARae0d+H3AImwASYwKgiwMIzqrqLK8sEmAATGP0EWHhGfx9yC5gAE2ACo4oAC8+o6i6uLBNgAkxg9BNg4Rn9fcgtYAJMgAmMKgL/H8GaNG3TDm7cAAAAAElFTkSuQmCC)"
   ]
  },
  {
   "cell_type": "markdown",
   "metadata": {
    "id": "VuEZ3XVcSyc5"
   },
   "source": [
    "### Some principles for creating effective prompts\n",
    "\n",
    "1. Be clear and detailed\n",
    "2. Explicitly ask for an output format\n",
    "3. Give the model a \"role\"/\"persona\""
   ]
  },
  {
   "cell_type": "markdown",
   "metadata": {
    "id": "FhkbWWUP0T5m"
   },
   "source": [
    "## Task 1: Structuring unstructured data\n",
    "\n",
    "Can we extract the most relevant characters discussed in a news article using an LLM?"
   ]
  },
  {
   "cell_type": "code",
   "execution_count": null,
   "metadata": {
    "colab": {
     "base_uri": "https://localhost:8080/",
     "height": 226
    },
    "executionInfo": {
     "elapsed": 1561,
     "status": "ok",
     "timestamp": 1718463270513,
     "user": {
      "displayName": "Yabra Muvdi",
      "userId": "05411695158184527633"
     },
     "user_tz": -120
    },
    "id": "R2DnH9lauJ7Y",
    "outputId": "223c00e8-70b8-4c51-e8d9-7589ab0496d5"
   },
   "outputs": [],
   "source": [
    "# load the data with utf-8 encoding\n",
    "\n",
    "with open('../../example_text.txt', 'r', encoding=\"utf-8\") as file:\n",
    "    ny_article = file.read()"
   ]
  },
  {
   "cell_type": "code",
   "execution_count": null,
   "metadata": {
    "colab": {
     "base_uri": "https://localhost:8080/"
    },
    "executionInfo": {
     "elapsed": 270,
     "status": "ok",
     "timestamp": 1718463274679,
     "user": {
      "displayName": "Yabra Muvdi",
      "userId": "05411695158184527633"
     },
     "user_tz": -120
    },
    "id": "ezkOml7tuJ7Z",
    "outputId": "c70398a3-4df2-4c70-ceec-87972cacb25d"
   },
   "outputs": [
    {
     "name": "stdout",
     "output_type": "stream",
     "text": [
      "Electing Donald J. Trump once could be dismissed as a fluke, an aberration, a terrible mistake—a consequential one, to be sure, yet still fundamentally an error. But America has now twice elected him as its President. It is a disastrous revelation about what the United States really is, as opposed to the country that so many hoped that it could be. His victory was a worst-case scenario—that a convicted felon, a chronic liar who mismanaged a deadly once-in-a-century pandemic, who tried to overturn the last election and unleashed a violent mob on the nation’s Capitol, who calls America “a garbage can for the world,” and who threatens retribution against his political enemies could win—and yet, in the early morning hours of Wednesday, it happened.\n",
      "\n",
      "Trump’s defeat of Kamala Harris was no upset, nor was it as unimaginable as when he beat Hillary Clinton, in 2016. But it was no less shocking. For much of the country, Trump’s past offenses were simply disqualifying. Just a week ago, Harris ga\n"
     ]
    }
   ],
   "source": [
    "# print part of text\n",
    "\n",
    "print(ny_article[:1000])"
   ]
  },
  {
   "cell_type": "code",
   "execution_count": null,
   "metadata": {
    "colab": {
     "base_uri": "https://localhost:8080/"
    },
    "executionInfo": {
     "elapsed": 3,
     "status": "ok",
     "timestamp": 1718463277352,
     "user": {
      "displayName": "Yabra Muvdi",
      "userId": "05411695158184527633"
     },
     "user_tz": -120
    },
    "id": "gnHrjsPMuJ7a",
    "outputId": "83fe59fa-5bd2-4933-a8c0-3b686e35bdf9"
   },
   "outputs": [
    {
     "name": "stdout",
     "output_type": "stream",
     "text": [
      "\n",
      "who does this article talk about?:\n",
      "\n",
      "Electing Donald J. Trump once could be dismissed as a fluke, an aberration, a terrible mistake—a consequential one, to be sure, yet still fundamentally an error. But America has now twice elected him as its President. It is a disastrous revelation about what the United States really is, as opposed to the country that so many hoped that it could be. His victory was a worst-case scenario—that a convicted felon, a chronic liar who mismanaged a deadly once-in-a-century pandemic, who tried to overturn the last election and unleashed a violent mob on the nation’s Capitol, who calls America “a garbage can for the world,” and who threatens retribution against his political enemies could win—and yet, in the early morning hours of Wednesday, it happened.\n",
      "\n",
      "Trump’s defeat of Kamala Harris was no upset, nor was it as unimaginable as when he beat Hillary Clinton, in 2016. But it was no less shocking. For much of the country, Trump’s past offenses were simply disq\n"
     ]
    }
   ],
   "source": [
    "# PRINCIPLE 1: Be clear and detailed (BAD PROMPT)\n",
    "my_prompt = f\"\"\"\n",
    "who does this article talk about?:\n",
    "\n",
    "{ny_article}\n",
    "\"\"\"\n",
    "\n",
    "print(my_prompt[:1000])"
   ]
  },
  {
   "cell_type": "code",
   "execution_count": null,
   "metadata": {
    "id": "oDBYf4LrbDx7"
   },
   "outputs": [],
   "source": [
    "# re-start the client\n",
    "client = OpenAI(api_key=api_key)"
   ]
  },
  {
   "cell_type": "code",
   "execution_count": null,
   "metadata": {
    "id": "byWLE5qJuJ7b"
   },
   "outputs": [],
   "source": [
    "# get a response from the model\n",
    "response = client.chat.completions.create(\n",
    "    model=\"gpt-3.5-turbo-0125\",    # name of the model,\n",
    "    messages=[\n",
    "        {\"role\": \"user\",\n",
    "         \"content\": my_prompt},\n",
    "    ],\n",
    "    max_tokens=100,                 # max number of tokens to generate\n",
    "    temperature=0.0\n",
    ")"
   ]
  },
  {
   "cell_type": "code",
   "execution_count": null,
   "metadata": {
    "colab": {
     "base_uri": "https://localhost:8080/"
    },
    "executionInfo": {
     "elapsed": 5,
     "status": "ok",
     "timestamp": 1718463289318,
     "user": {
      "displayName": "Yabra Muvdi",
      "userId": "05411695158184527633"
     },
     "user_tz": -120
    },
    "id": "_-gWWHu8uJ7b",
    "outputId": "990c6e6d-2811-4c07-a26f-bb8407e505a8"
   },
   "outputs": [
    {
     "name": "stdout",
     "output_type": "stream",
     "text": [
      "This article talks about the re-election of Donald J. Trump as President of the United States, the defeat of Kamala Harris in the election, the potential consequences of Trump's return to power, and the implications for the country and the world. It discusses Trump's controversial policies and rhetoric, as well as the challenges and dangers that may arise from his second term in office. The article also touches on the failures of the Democratic Party and the potential impact of Trump's presidency on various aspects of American society\n"
     ]
    }
   ],
   "source": [
    "# extract response\n",
    "print(response.choices[0].message.content)"
   ]
  },
  {
   "cell_type": "code",
   "execution_count": null,
   "metadata": {
    "id": "XWtHxEFzuJ7b"
   },
   "outputs": [],
   "source": [
    "# PRINCIPLE 1: Be clear and detailed (GOOD PROMPT)\n",
    "my_prompt = f\"\"\"\n",
    "We want to extract the relevant people from a news article.\n",
    "\n",
    "Please follow these steps:\n",
    "1. Identify all the people mentioned and any description of them\n",
    "2. Identify any political offices mentioned\n",
    "\n",
    "Here is the text of the article:\n",
    "{ny_article}\n",
    "\n",
    "\"\"\""
   ]
  },
  {
   "cell_type": "code",
   "execution_count": null,
   "metadata": {
    "id": "wIkq2P8ruJ7b"
   },
   "outputs": [],
   "source": [
    "response = client.chat.completions.create(\n",
    "    model=\"gpt-3.5-turbo-0125\",    # name of the model,\n",
    "    messages=[\n",
    "        {\"role\": \"user\", \"content\": my_prompt},\n",
    "    ],\n",
    "    max_tokens=1000,                 # max number of tokens to be generate\n",
    "    temperature=0.0                 # temperature\n",
    ")"
   ]
  },
  {
   "cell_type": "code",
   "execution_count": null,
   "metadata": {
    "colab": {
     "base_uri": "https://localhost:8080/"
    },
    "executionInfo": {
     "elapsed": 4,
     "status": "ok",
     "timestamp": 1718463297046,
     "user": {
      "displayName": "Yabra Muvdi",
      "userId": "05411695158184527633"
     },
     "user_tz": -120
    },
    "id": "mq-Wm0v0uJ7b",
    "outputId": "32949d73-216e-48b4-c280-2c8d1cf31234"
   },
   "outputs": [
    {
     "name": "stdout",
     "output_type": "stream",
     "text": [
      "People mentioned in the article:\n",
      "1. Donald J. Trump\n",
      "2. Kamala Harris\n",
      "3. Barack Obama\n",
      "4. Joe Biden\n",
      "5. Hillary Clinton\n",
      "6. Grover Cleveland\n",
      "7. George H. W. Bush\n",
      "8. Martin Van Buren\n",
      "9. Josh Shapiro\n",
      "10. Tim Walz\n",
      "11. Doug Sosnik\n",
      "12. Mike Pence\n",
      "13. John Kelly\n",
      "14. Howard Lutnick\n",
      "15. Jared Kushner\n",
      "16. Mark Milley\n",
      "17. Christopher Wray\n",
      "18. Jay Powell\n",
      "19. Elon Musk\n",
      "20. Vladimir Putin\n",
      "\n",
      "Political offices mentioned:\n",
      "1. President\n",
      "2. Vice-President\n",
      "3. White House political director\n",
      "4. Governor\n",
      "5. F.B.I. director\n",
      "6. Chairman of the Federal Reserve\n",
      "7. Chairman of the Joint Chiefs of Staff\n",
      "8. Secretary of Cost Cutting\n"
     ]
    }
   ],
   "source": [
    "print(response.choices[0].message.content)"
   ]
  },
  {
   "cell_type": "code",
   "execution_count": null,
   "metadata": {
    "id": "lUp5moc8uJ7b"
   },
   "outputs": [],
   "source": [
    "# PRINCIPLE 2: Explicitly ask for an output format\n",
    "\n",
    "my_prompt = f\"\"\"\n",
    "We want to extract the relevant characters from a news article. Provide your output in json format with each step as a key.\n",
    "\n",
    "Please follow these steps:\n",
    "1. People: Identify all the people mentioned and any description of them\n",
    "2. Institutions: Identify all the institutions mentioned\n",
    "\n",
    "Here is the text of the article:\n",
    "{ny_article}\n",
    "\n",
    "\"\"\""
   ]
  },
  {
   "cell_type": "code",
   "execution_count": null,
   "metadata": {
    "id": "SSuRMyNHuJ7b"
   },
   "outputs": [],
   "source": [
    "response = client.chat.completions.create(\n",
    "    model=\"gpt-3.5-turbo-0125\",    # name of the model,\n",
    "    messages=[\n",
    "        {\"role\": \"user\", \"content\": my_prompt},\n",
    "    ],\n",
    "    max_tokens=1000,                 # max number of tokens to be generate\n",
    "    temperature=0.0                 # temperature\n",
    ")"
   ]
  },
  {
   "cell_type": "code",
   "execution_count": null,
   "metadata": {
    "colab": {
     "base_uri": "https://localhost:8080/"
    },
    "executionInfo": {
     "elapsed": 9,
     "status": "ok",
     "timestamp": 1718463305383,
     "user": {
      "displayName": "Yabra Muvdi",
      "userId": "05411695158184527633"
     },
     "user_tz": -120
    },
    "id": "keih8tf5uJ7b",
    "outputId": "d7c3557d-ebd8-4c76-d07b-99d5145c065c"
   },
   "outputs": [
    {
     "name": "stdout",
     "output_type": "stream",
     "text": [
      "{\n",
      "    \"People\": {\n",
      "        \"Donald J. Trump\": \"Twice-elected President, convicted felon, chronic liar, mismanaged pandemic, tried to overturn election, unleashed violent mob, calls America 'a garbage can for the world', threatens retribution against political enemies\",\n",
      "        \"Kamala Harris\": \"Defeated by Trump, gave closing argument against Trump, emphasized unity and American values\",\n",
      "        \"Barack Obama\": \"Outgoing President at the dawn of the Age of Trump, warned about the consequences of two terms of Trump\",\n",
      "        \"Joe Biden\": \"Defeated Trump, criticized for contributing to Trump's return by running for re-election despite aging\",\n",
      "        \"Josh Shapiro\": \"Popular governor of Pennsylvania\",\n",
      "        \"Tim Walz\": \"Governor of Minnesota, chosen as Harris's Vice-Presidential running mate\",\n",
      "        \"George H. W. Bush\": \"Only sitting Vice-President elected to the Presidency since Martin Van Buren\",\n",
      "        \"Jared Kushner\": \"Son-in-law of Trump, concluded that poor personnel decisions were a major problem for the Administration\",\n",
      "        \"Mike Pence\": \"Vice-President under Trump, refused to endorse Trump in the 2024 campaign\",\n",
      "        \"John Kelly\": \"Retired four-star marine general, longest-serving White House chief of staff under Trump\",\n",
      "        \"Howard Lutnick\": \"Billionaire, Trump's transition chair, stated that jobs in a new Administration will go only to those who pledge loyalty to Trump\",\n",
      "        \"Christopher Wray\": \"F.B.I. director appointed by Trump\",\n",
      "        \"Jay Powell\": \"Chairman of the Federal Reserve appointed by Trump\",\n",
      "        \"Elon Musk\": \"World's richest man, supported Trump and promoted his lies, conspiracy theories, and propaganda\",\n",
      "        \"Vladimir Putin\": \"President of Russia\",\n",
      "        \"Mark Milley\": \"Former chairman of the Joint Chiefs of Staff\"\n",
      "    },\n",
      "    \"Institutions\": {\n",
      "        \"White House\": \"Location where political decisions are made\",\n",
      "        \"Republican Party\": \"Political party that embraced Trump despite his controversies\",\n",
      "        \"Democratic Party\": \"Political party that nominated Kamala Harris for President\",\n",
      "        \"Five Thirty Eight\": \"Polling organization\",\n",
      "        \"NATO\": \"North Atlantic Treaty Organization\",\n",
      "        \"F.B.I.\": \"Federal Bureau of Investigation\",\n",
      "        \"Federal Reserve\": \"Central banking system of the United States\",\n",
      "        \"SpaceX\": \"Space exploration company owned by Elon Musk\",\n",
      "        \"X\": \"Social media site owned by Elon Musk\"\n",
      "    }\n",
      "}\n"
     ]
    }
   ],
   "source": [
    "print(response.choices[0].message.content)"
   ]
  },
  {
   "cell_type": "code",
   "execution_count": 97,
   "metadata": {
    "colab": {
     "base_uri": "https://localhost:8080/"
    },
    "executionInfo": {
     "elapsed": 281,
     "status": "ok",
     "timestamp": 1718463310147,
     "user": {
      "displayName": "Yabra Muvdi",
      "userId": "05411695158184527633"
     },
     "user_tz": -120
    },
    "id": "cO0IX6KSuJ7b",
    "outputId": "1f46501f-81a0-4770-8018-ea3e8d7d5794"
   },
   "outputs": [],
   "source": [
    "# load the data with utf-8 encoding\n",
    "\n",
    "with open('../../example_text2.txt', 'r', encoding=\"utf-8\") as file:\n",
    "    tt_article = file.read()"
   ]
  },
  {
   "cell_type": "code",
   "execution_count": 98,
   "metadata": {
    "id": "cgUMVz7huJ7c"
   },
   "outputs": [],
   "source": [
    "# PRINCIPLE 3: Give the model a role/persona\n",
    "my_prompt = f\"\"\"Summarize the article below.\n",
    "Article:\n",
    "{tt_article}\n",
    "\"\"\""
   ]
  },
  {
   "cell_type": "markdown",
   "metadata": {
    "id": "guBgLXTMoX8J"
   },
   "source": [
    "We will give the model its role/person through a **system prompt**. Anthropic provides a nice [guide](https://docs.anthropic.com/en/docs/system-prompts) explaining what system prompts are and how to use them."
   ]
  },
  {
   "cell_type": "code",
   "execution_count": 101,
   "metadata": {
    "id": "AvoeMDjlatU5"
   },
   "outputs": [],
   "source": [
    "response = client.chat.completions.create(\n",
    "    model=\"gpt-3.5-turbo-0125\",    # name of the model,,\n",
    "    messages=[\n",
    "        {\"role\": \"system\", \"content\": \"You are a helpful assistant that replies with a concise one-sentence answer that always starts with the letter T.\"},  # define the ROLE/PERSONA\n",
    "        {\"role\": \"user\", \"content\": my_prompt},\n",
    "    ],\n",
    "    max_tokens=100,                 # max number of tokens to be generate\n",
    "    temperature=0.0                 # temperature\n",
    ")"
   ]
  },
  {
   "cell_type": "code",
   "execution_count": 102,
   "metadata": {
    "colab": {
     "base_uri": "https://localhost:8080/"
    },
    "executionInfo": {
     "elapsed": 4,
     "status": "ok",
     "timestamp": 1718463315414,
     "user": {
      "displayName": "Yabra Muvdi",
      "userId": "05411695158184527633"
     },
     "user_tz": -120
    },
    "id": "IiRVW5ksuJ7c",
    "outputId": "39fffbe1-45ce-40d2-b416-6d4f26da39c5"
   },
   "outputs": [
    {
     "name": "stdout",
     "output_type": "stream",
     "text": [
      "Texas is targeting the Tren de Aragua gang by declaring it a foreign terrorist organization and mobilizing law enforcement to pursue its criminal activities.\n"
     ]
    }
   ],
   "source": [
    "print(response.choices[0].message.content)"
   ]
  },
  {
   "cell_type": "code",
   "execution_count": 103,
   "metadata": {
    "id": "fR4_YNWcsEd4"
   },
   "outputs": [],
   "source": [
    "# Under-the-hood the \"system prompt\" is partially how the models have certain guardrails\n",
    "\n",
    "response = client.chat.completions.create(\n",
    "    model=\"gpt-3.5-turbo-0125\",    # name of the model,\n",
    "    messages=[\n",
    "        {\"role\": \"system\", \"content\": \"\"\"You are a language model that works with young children. Never produce content related to violence or gangs.\"\n",
    "        If asked to produce this content please reply with the phrase \"I can't do that :( \\nViolence is not good  \" \"\"\"\n",
    "        },\n",
    "        {\"role\": \"user\", \"content\": my_prompt},\n",
    "    ],\n",
    "    max_tokens=100,                 # max number of tokens to be generate\n",
    "    temperature=0.0                 # temperature\n",
    ")"
   ]
  },
  {
   "cell_type": "code",
   "execution_count": 104,
   "metadata": {
    "colab": {
     "base_uri": "https://localhost:8080/"
    },
    "executionInfo": {
     "elapsed": 3,
     "status": "ok",
     "timestamp": 1718463329580,
     "user": {
      "displayName": "Yabra Muvdi",
      "userId": "05411695158184527633"
     },
     "user_tz": -120
    },
    "id": "JQtqqQa33DWQ",
    "outputId": "707a9a81-26bc-42e8-e27c-edd6804bd51e"
   },
   "outputs": [
    {
     "name": "stdout",
     "output_type": "stream",
     "text": [
      "I can't do that :( \n",
      "Violence is not good\n"
     ]
    }
   ],
   "source": [
    "print(response.choices[0].message.content)"
   ]
  },
  {
   "cell_type": "markdown",
   "metadata": {
    "id": "Zdi3DzyCuJ7c"
   },
   "source": [
    "## Task 2: Latent Concept Detection\n",
    "\n",
    "To demonstrate this task we will use data from [The Voice of Monetary Policy (Gorodnichenko  et. al 2023)](https://www.aeaweb.org/articles?id=10.1257/aer.20220129) paper that contains labeled sentences from press conferences after FOMC meetings. Sentences were labeled as hawisk, neutral or dovish."
   ]
  },
  {
   "cell_type": "code",
   "execution_count": 105,
   "metadata": {
    "id": "UwI9IYDpUydI"
   },
   "outputs": [],
   "source": [
    "response = client.chat.completions.create(\n",
    "    model=\"gpt-3.5-turbo-0125\",    # name of the model,\n",
    "    messages=[\n",
    "        {\"role\": \"system\", \"content\": \"\"\"You are an expert financial analyst with great capacity to explain complex concepts to a broad audicence.\"\"\"},\n",
    "        {\"role\": \"user\", \"content\": \"Explain the meaning of hawkish and dovish\"},\n",
    "    ],\n",
    "    max_tokens=200,                 # max number of tokens to be generate\n",
    "    temperature=0.0                 # temperature\n",
    ")"
   ]
  },
  {
   "cell_type": "code",
   "execution_count": 106,
   "metadata": {
    "colab": {
     "base_uri": "https://localhost:8080/"
    },
    "executionInfo": {
     "elapsed": 292,
     "status": "ok",
     "timestamp": 1718462227091,
     "user": {
      "displayName": "Yabra Muvdi",
      "userId": "05411695158184527633"
     },
     "user_tz": -120
    },
    "id": "BnKBW20qVIjT",
    "outputId": "88edfbe0-d07c-4169-af4f-32008a80a81e"
   },
   "outputs": [
    {
     "name": "stdout",
     "output_type": "stream",
     "text": [
      "Certainly! In the context of financial markets and central banking, \"hawkish\" and \"dovish\" are terms used to describe the stance of policymakers towards monetary policy.\n",
      "\n",
      "1. **Hawkish**: A hawkish stance refers to a more aggressive or restrictive monetary policy approach. When central bankers are described as being hawkish, it means they are more concerned about controlling inflation and may be inclined to raise interest rates to curb inflationary pressures. Hawkish policymakers are generally more focused on price stability and are willing to prioritize controlling inflation over other economic objectives like maximizing employment.\n",
      "\n",
      "2. **Dovish**: On the other hand, a dovish stance refers to a more accommodative or expansionary monetary policy approach. Dovish policymakers are more concerned about stimulating economic growth and reducing unemployment, even if it means accepting slightly higher inflation. They are more likely to lower interest rates or implement other stimulus measures to support economic activity.\n",
      "\n",
      "These terms are often used by analysts and market participants to interpret the statements\n"
     ]
    }
   ],
   "source": [
    "print(response.choices[0].message.content)"
   ]
  },
  {
   "cell_type": "code",
   "execution_count": 107,
   "metadata": {
    "colab": {
     "base_uri": "https://localhost:8080/",
     "height": 226
    },
    "executionInfo": {
     "elapsed": 1268,
     "status": "ok",
     "timestamp": 1718618997340,
     "user": {
      "displayName": "Yabra Muvdi",
      "userId": "05411695158184527633"
     },
     "user_tz": -120
    },
    "id": "lWDfF7Y8uJ7c",
    "outputId": "18e08f4b-67b8-4ed2-eb9a-41312591179e"
   },
   "outputs": [
    {
     "data": {
      "text/html": [
       "<div>\n",
       "<style scoped>\n",
       "    .dataframe tbody tr th:only-of-type {\n",
       "        vertical-align: middle;\n",
       "    }\n",
       "\n",
       "    .dataframe tbody tr th {\n",
       "        vertical-align: top;\n",
       "    }\n",
       "\n",
       "    .dataframe thead th {\n",
       "        text-align: right;\n",
       "    }\n",
       "</style>\n",
       "<table border=\"1\" class=\"dataframe\">\n",
       "  <thead>\n",
       "    <tr style=\"text-align: right;\">\n",
       "      <th></th>\n",
       "      <th>ID</th>\n",
       "      <th>text</th>\n",
       "      <th>sentiment</th>\n",
       "    </tr>\n",
       "  </thead>\n",
       "  <tbody>\n",
       "    <tr>\n",
       "      <th>0</th>\n",
       "      <td>157_1</td>\n",
       "      <td>The action was taken to cushion the effects on...</td>\n",
       "      <td>dovish</td>\n",
       "    </tr>\n",
       "    <tr>\n",
       "      <th>1</th>\n",
       "      <td>161_2</td>\n",
       "      <td>Such trends could foster inflationary imbalanc...</td>\n",
       "      <td>hawkish</td>\n",
       "    </tr>\n",
       "    <tr>\n",
       "      <th>2</th>\n",
       "      <td>52_0</td>\n",
       "      <td>The Federal Open Market Committee at its meeti...</td>\n",
       "      <td>neutral</td>\n",
       "    </tr>\n",
       "    <tr>\n",
       "      <th>3</th>\n",
       "      <td>21_5</td>\n",
       "      <td>Although continuing favorable trends bolster l...</td>\n",
       "      <td>dovish</td>\n",
       "    </tr>\n",
       "    <tr>\n",
       "      <th>4</th>\n",
       "      <td>78_7</td>\n",
       "      <td>The Committee perceives that the upside and do...</td>\n",
       "      <td>neutral</td>\n",
       "    </tr>\n",
       "  </tbody>\n",
       "</table>\n",
       "</div>"
      ],
      "text/plain": [
       "      ID                                               text sentiment\n",
       "0  157_1  The action was taken to cushion the effects on...    dovish\n",
       "1  161_2  Such trends could foster inflationary imbalanc...   hawkish\n",
       "2   52_0  The Federal Open Market Committee at its meeti...   neutral\n",
       "3   21_5  Although continuing favorable trends bolster l...    dovish\n",
       "4   78_7  The Committee perceives that the upside and do...   neutral"
      ]
     },
     "execution_count": 107,
     "metadata": {},
     "output_type": "execute_result"
    }
   ],
   "source": [
    "file_id = \"1INq3wr9DuykD4iSlUCocHegOJ5qgLP8z\"\n",
    "df = pd.read_csv(f\"https://drive.google.com/uc?export=download&id={file_id}&authuser=0&export=download\", sep=\"\\t\")\n",
    "df.head()"
   ]
  },
  {
   "cell_type": "code",
   "execution_count": 109,
   "metadata": {
    "colab": {
     "base_uri": "https://localhost:8080/"
    },
    "executionInfo": {
     "elapsed": 339,
     "status": "ok",
     "timestamp": 1718462301587,
     "user": {
      "displayName": "Yabra Muvdi",
      "userId": "05411695158184527633"
     },
     "user_tz": -120
    },
    "id": "cWv04lzVdXGl",
    "outputId": "cea68f62-61e4-442a-efe6-e693a77e896b"
   },
   "outputs": [
    {
     "name": "stdout",
     "output_type": "stream",
     "text": [
      "Label:  dovish \n",
      "\n",
      "\n",
      "The Federal Open Market Committee decided today to lower its target for the federal funds rate by 50 basis points to 6 percent\n"
     ]
    }
   ],
   "source": [
    "# explore a sentence and its label\n",
    "i = np.random.randint(0, len(df))\n",
    "print(\"Label: \", df.loc[i, \"sentiment\"], \"\\n\\n\")\n",
    "print(df.loc[i, \"text\"])"
   ]
  },
  {
   "cell_type": "code",
   "execution_count": 110,
   "metadata": {
    "id": "kLtLxXkauJ7c"
   },
   "outputs": [],
   "source": [
    "# first attempt at a prompt\n",
    "def generation_prompt(text):\n",
    "    prompt = f\"\"\"\n",
    "    Classify the following text as hawkish, dovish, or neutral.\n",
    "\n",
    "    Text: {text}\n",
    "    \"\"\"\n",
    "    return prompt"
   ]
  },
  {
   "cell_type": "code",
   "execution_count": 111,
   "metadata": {
    "colab": {
     "base_uri": "https://localhost:8080/"
    },
    "executionInfo": {
     "elapsed": 243,
     "status": "ok",
     "timestamp": 1718462709808,
     "user": {
      "displayName": "Yabra Muvdi",
      "userId": "05411695158184527633"
     },
     "user_tz": -120
    },
    "id": "cAtRGVFRuJ7c",
    "outputId": "802ab48d-afe4-4adb-f7a7-bef44e300bed"
   },
   "outputs": [
    {
     "name": "stdout",
     "output_type": "stream",
     "text": [
      "Label:  dovish\n",
      "\n",
      "    Classify the following text as hawkish, dovish, or neutral.\n",
      "\n",
      "    Text: In a related action, the Board of Governors approved a 25 basis point reduction in the discount rate to 3 percent\n",
      "    \n"
     ]
    }
   ],
   "source": [
    "i = 1184\n",
    "print(\"Label: \", df.loc[i, \"sentiment\"])\n",
    "text = df.loc[i, \"text\"]\n",
    "my_prompt = generation_prompt(text)\n",
    "print(my_prompt)"
   ]
  },
  {
   "cell_type": "code",
   "execution_count": null,
   "metadata": {
    "id": "-K9qHjUJbOmR"
   },
   "outputs": [],
   "source": [
    "# re-start the client\n",
    "client = OpenAI(api_key=api_key)"
   ]
  },
  {
   "cell_type": "code",
   "execution_count": 112,
   "metadata": {
    "id": "wLIU9g9RuJ7c"
   },
   "outputs": [],
   "source": [
    "response = client.chat.completions.create(\n",
    "    model=\"gpt-3.5-turbo-0125\",    # name of the model\n",
    "    messages=[\n",
    "        {\"role\": \"user\", \"content\": my_prompt},\n",
    "    ],\n",
    "    max_tokens=10,                  # max number of tokens to be generate\n",
    "    temperature=0.0                 # temperature\n",
    ")"
   ]
  },
  {
   "cell_type": "code",
   "execution_count": 113,
   "metadata": {
    "colab": {
     "base_uri": "https://localhost:8080/"
    },
    "executionInfo": {
     "elapsed": 3,
     "status": "ok",
     "timestamp": 1718462730455,
     "user": {
      "displayName": "Yabra Muvdi",
      "userId": "05411695158184527633"
     },
     "user_tz": -120
    },
    "id": "T01KoFKWuJ7d",
    "outputId": "81f618a6-17e0-4357-aa1b-f528bf39281c"
   },
   "outputs": [
    {
     "name": "stdout",
     "output_type": "stream",
     "text": [
      "Hawkish\n"
     ]
    }
   ],
   "source": [
    "print(response.choices[0].message.content)"
   ]
  },
  {
   "cell_type": "code",
   "execution_count": null,
   "metadata": {
    "cellView": "form",
    "colab": {
     "base_uri": "https://localhost:8080/",
     "height": 329
    },
    "executionInfo": {
     "elapsed": 273,
     "status": "ok",
     "timestamp": 1718179455959,
     "user": {
      "displayName": "Yabra Muvdi",
      "userId": "05411695158184527633"
     },
     "user_tz": -120
    },
    "id": "WfDatNG_uJ7d",
    "outputId": "5afafc7f-61c3-442c-e63f-34f64ec07bfc"
   },
   "outputs": [
    {
     "data": {
      "text/html": [
       "\n",
       "<div class=\"alert\">\n",
       "  <h2> Exercise </h2>\n",
       "  <br>\n",
       "  <p> 1. Improving the prompt </p>\n",
       "  <br>\n",
       "  <ol type=\"a\">\n",
       "  <li> Expand the current prompt in a way that helps generate better results.</li>\n",
       "  <li> What principles or ideas did you use? </li>\n",
       "  <li> Try your new prompt. Any improvements? </li>\n",
       "  </ol>\n",
       "  <br>\n",
       "\n",
       "</div>\n",
       "\n",
       "<style>\n",
       ".alert {\n",
       "  padding: 20px;\n",
       "  background-color: #586BA4;\n",
       "  color: white;\n",
       "  margin-bottom: 15px;\n",
       "}\n",
       "\n",
       "h2{\n",
       "  font-size: 30px;\n",
       "  color: white;\n",
       "}\n",
       "\n",
       "li, p{\n",
       "  font-size: 20px;\n",
       "}\n",
       "\n",
       "</style>\n"
      ],
      "text/plain": [
       "<IPython.core.display.HTML object>"
      ]
     },
     "execution_count": 45,
     "metadata": {},
     "output_type": "execute_result"
    }
   ],
   "source": [
    "#@title\n",
    "HTML(\"\"\"\n",
    "<div class=\"alert\">\n",
    "  <h2> Exercise </h2>\n",
    "  <br>\n",
    "  <p> 1. Improving the prompt </p>\n",
    "  <br>\n",
    "  <ol type=\"a\">\n",
    "  <li> Expand the current prompt in a way that helps generate better results.</li>\n",
    "  <li> What principles or ideas did you use? </li>\n",
    "  <li> Try your new prompt. Any improvements? </li>\n",
    "  </ol>\n",
    "  <br>\n",
    "\n",
    "</div>\n",
    "\n",
    "<style>\n",
    ".alert {\n",
    "  padding: 20px;\n",
    "  background-color: #586BA4;\n",
    "  color: white;\n",
    "  margin-bottom: 15px;\n",
    "}\n",
    "\n",
    "h2{\n",
    "  font-size: 30px;\n",
    "  color: white;\n",
    "}\n",
    "\n",
    "li, p{\n",
    "  font-size: 20px;\n",
    "}\n",
    "\n",
    "</style>\n",
    "\"\"\")"
   ]
  },
  {
   "cell_type": "code",
   "execution_count": null,
   "metadata": {
    "id": "0ynKXhJpmGHg"
   },
   "outputs": [],
   "source": [
    "# Modify the function\n",
    "def generation_prompt(text):\n",
    "    prompt = f\"\"\"\n",
    "\n",
    "\n",
    "\n",
    "    YOUR WONDERFUL NEW PROMPT\n",
    "\n",
    "\n",
    "\n",
    "\n",
    "\n",
    "    {text}\n",
    "    \"\"\"\n",
    "    return prompt"
   ]
  },
  {
   "cell_type": "code",
   "execution_count": null,
   "metadata": {
    "id": "Z10CmWofmGFa"
   },
   "outputs": [],
   "source": [
    "# generate text from the model"
   ]
  },
  {
   "cell_type": "code",
   "execution_count": null,
   "metadata": {
    "id": "WSW5v7EamGCL"
   },
   "outputs": [],
   "source": [
    "# print response"
   ]
  },
  {
   "cell_type": "code",
   "execution_count": null,
   "metadata": {
    "cellView": "form",
    "colab": {
     "base_uri": "https://localhost:8080/",
     "height": 267
    },
    "executionInfo": {
     "elapsed": 297,
     "status": "ok",
     "timestamp": 1718619930743,
     "user": {
      "displayName": "Yabra Muvdi",
      "userId": "05411695158184527633"
     },
     "user_tz": -120
    },
    "id": "3fD1NOhomF5t",
    "outputId": "6bdb4c6a-51c3-431f-c523-92cd72e7ea5e"
   },
   "outputs": [
    {
     "data": {
      "text/html": [
       "\n",
       "<div class=\"alert\">\n",
       "  <h2> DON'T GO BEYOND THIS POINT ON YOUR OWN </h2>\n",
       "\n",
       "\n",
       "\n",
       "\n",
       "</div>\n",
       "\n",
       "<style>\n",
       ".alert {\n",
       "  padding: 20px;\n",
       "  background-color: #F49D37;\n",
       "  color: white;\n",
       "  margin-bottom: 20px;\n",
       "}\n",
       "\n",
       "h2{\n",
       "  font-size: 50px;\n",
       "  color: white;\n",
       "}\n",
       "\n",
       "li, p{\n",
       "  font-size: 20px;\n",
       "}\n",
       "\n",
       "</style>\n"
      ],
      "text/plain": [
       "<IPython.core.display.HTML object>"
      ]
     },
     "execution_count": 22,
     "metadata": {},
     "output_type": "execute_result"
    }
   ],
   "source": [
    "#@title\n",
    "HTML(\"\"\"\n",
    "<div class=\"alert\">\n",
    "  <h2> DON'T GO BEYOND THIS POINT ON YOUR OWN </h2>\n",
    "\n",
    "\n",
    "\n",
    "\n",
    "</div>\n",
    "\n",
    "<style>\n",
    ".alert {\n",
    "  padding: 20px;\n",
    "  background-color: #F49D37;\n",
    "  color: white;\n",
    "  margin-bottom: 20px;\n",
    "}\n",
    "\n",
    "h2{\n",
    "  font-size: 50px;\n",
    "  color: white;\n",
    "}\n",
    "\n",
    "li, p{\n",
    "  font-size: 20px;\n",
    "}\n",
    "\n",
    "</style>\n",
    "\"\"\")"
   ]
  },
  {
   "cell_type": "code",
   "execution_count": 114,
   "metadata": {
    "id": "kQeptQPPuJ7d"
   },
   "outputs": [],
   "source": [
    "# Source of inspiration for the prompt:\n",
    "# https://www.newyorkfed.org/medialibrary/media/research/conference/2023/FinTech/400pm_Hansen_Paper_Kazinnik_2023.pdf?sc_lang=en&hash=9B1647BD6876D0F3959C6919BA3F82DE\n",
    "\n",
    "def generation_prompt(text):\n",
    "    prompt = f\"\"\"\n",
    "    Your task is to classify the text into one of the three categories (\"dovish\", \"neutral\", \"hawkish\").\n",
    "    The text is taken at random from the texts of FOMC announcements.\n",
    "    Provide your output in json format with a key \"category\" and the selected category.\n",
    "\n",
    "    Text:\n",
    "    {text}\n",
    "    \"\"\"\n",
    "    return prompt"
   ]
  },
  {
   "cell_type": "code",
   "execution_count": 115,
   "metadata": {
    "id": "nW3cI8Y7uJ7d"
   },
   "outputs": [
    {
     "name": "stdout",
     "output_type": "stream",
     "text": [
      "Human label for sentiment:  dovish\n",
      "\n",
      "    Your task is to classify the text into one of the three categories (\"dovish\", \"neutral\", \"hawkish\").\n",
      "    The text is taken at random from the texts of FOMC announcements.\n",
      "    Provide your output in json format with a key \"category\" and the selected category.\n",
      "\n",
      "    Text:\n",
      "    In a related action, the Board of Governors approved a 25 basis point reduction in the discount rate to 3 percent\n",
      "    \n"
     ]
    }
   ],
   "source": [
    "#i = np.random.randint(0, len(df))\n",
    "i = 1184\n",
    "text = df.loc[i, \"text\"]\n",
    "sentiment = df.loc[i, \"sentiment\"]\n",
    "my_prompt = generation_prompt(text)\n",
    "print(\"Human label for sentiment: \", sentiment)\n",
    "print(my_prompt)"
   ]
  },
  {
   "cell_type": "code",
   "execution_count": 116,
   "metadata": {
    "id": "WrdTl15EuJ7d"
   },
   "outputs": [],
   "source": [
    "response = client.chat.completions.create(\n",
    "    model=\"gpt-3.5-turbo-0125\",    # name of the model\n",
    "    messages=[\n",
    "        {\"role\": \"system\", \"content\": \"You are a research assistant working for the Fed. You have a degree in Economics.\"},\n",
    "        {\"role\": \"user\", \"content\": my_prompt},\n",
    "    ],\n",
    "    max_tokens=15,                 # max number of tokens to be generate\n",
    "    temperature=0                  # temperature\n",
    ")"
   ]
  },
  {
   "cell_type": "code",
   "execution_count": 117,
   "metadata": {
    "colab": {
     "base_uri": "https://localhost:8080/"
    },
    "executionInfo": {
     "elapsed": 249,
     "status": "ok",
     "timestamp": 1718619033582,
     "user": {
      "displayName": "Yabra Muvdi",
      "userId": "05411695158184527633"
     },
     "user_tz": -120
    },
    "id": "Hgkb76HsuJ7d",
    "outputId": "b410793d-7bdd-4011-e257-379de5748062"
   },
   "outputs": [
    {
     "name": "stdout",
     "output_type": "stream",
     "text": [
      "{\n",
      "    \"category\": \"dovish\"\n",
      "}\n"
     ]
    }
   ],
   "source": [
    "print(response.choices[0].message.content)"
   ]
  },
  {
   "cell_type": "markdown",
   "metadata": {
    "id": "4nK8tvrhuJ7e"
   },
   "source": [
    "### Estimating the cost"
   ]
  },
  {
   "cell_type": "code",
   "execution_count": 118,
   "metadata": {
    "id": "QQJo6uc3uJ7e"
   },
   "outputs": [],
   "source": [
    "# To get the tokeniser corresponding to a specific model in the OpenAI API:\n",
    "cost_per_million_input = 0.5\n",
    "cost_per_million_output = 1.5\n",
    "\n",
    "enc = tiktoken.encoding_for_model(\"gpt-3.5-turbo-0125\")\n",
    "\n",
    "def num_tokens_from_string(string: str, encoding_name: str) -> int:\n",
    "    \"\"\"Returns the number of tokens in a text string.\"\"\"\n",
    "    encoding = tiktoken.encoding_for_model(encoding_name)\n",
    "    num_tokens = len(encoding.encode(string))\n",
    "    return num_tokens\n",
    "\n",
    "def calculate_cost(input_tokens, output_tokens, input_cost, output_cost):\n",
    "    return (input_tokens/1000000)*input_cost + (output_tokens/1000000)*output_cost\n",
    "\n",
    "\n",
    "prompt = \"\"\"You are a research assistant working for the Fed. You have a degree in Economics.\n",
    "Your task is to classify the text into one of the three categories (\"dovish\", \"neutral\", \"hawkish\").\n",
    "The text is taken at random from the texts of FOMC announcements.\n",
    "Provide your output in json format with a key \"category\" and the selected category.\n",
    "\"\"\""
   ]
  },
  {
   "cell_type": "code",
   "execution_count": 119,
   "metadata": {
    "id": "kRUNemM9uJ7e"
   },
   "outputs": [],
   "source": [
    "all_costs = []\n",
    "for text in df[\"text\"].values:\n",
    "    all_text = prompt + text\n",
    "    num_tokens_input = num_tokens_from_string(all_text, \"gpt-3.5-turbo\")\n",
    "    num_tokens_output = 15\n",
    "    cost = calculate_cost(num_tokens_input, num_tokens_output,\n",
    "                          cost_per_million_input, cost_per_million_output)\n",
    "    all_costs.append(cost)"
   ]
  },
  {
   "cell_type": "code",
   "execution_count": 120,
   "metadata": {
    "colab": {
     "base_uri": "https://localhost:8080/",
     "height": 443
    },
    "executionInfo": {
     "elapsed": 7,
     "status": "ok",
     "timestamp": 1718463015486,
     "user": {
      "displayName": "Yabra Muvdi",
      "userId": "05411695158184527633"
     },
     "user_tz": -120
    },
    "id": "jUcV-FqQuJ7e",
    "outputId": "54866c67-f3a6-4696-d4dd-0e5834805a3e"
   },
   "outputs": [
    {
     "data": {
      "text/html": [
       "<div>\n",
       "<style scoped>\n",
       "    .dataframe tbody tr th:only-of-type {\n",
       "        vertical-align: middle;\n",
       "    }\n",
       "\n",
       "    .dataframe tbody tr th {\n",
       "        vertical-align: top;\n",
       "    }\n",
       "\n",
       "    .dataframe thead th {\n",
       "        text-align: right;\n",
       "    }\n",
       "</style>\n",
       "<table border=\"1\" class=\"dataframe\">\n",
       "  <thead>\n",
       "    <tr style=\"text-align: right;\">\n",
       "      <th></th>\n",
       "      <th>ID</th>\n",
       "      <th>text</th>\n",
       "      <th>sentiment</th>\n",
       "      <th>cost</th>\n",
       "    </tr>\n",
       "  </thead>\n",
       "  <tbody>\n",
       "    <tr>\n",
       "      <th>0</th>\n",
       "      <td>157_1</td>\n",
       "      <td>The action was taken to cushion the effects on...</td>\n",
       "      <td>dovish</td>\n",
       "      <td>0.000074</td>\n",
       "    </tr>\n",
       "    <tr>\n",
       "      <th>1</th>\n",
       "      <td>161_2</td>\n",
       "      <td>Such trends could foster inflationary imbalanc...</td>\n",
       "      <td>hawkish</td>\n",
       "      <td>0.000068</td>\n",
       "    </tr>\n",
       "    <tr>\n",
       "      <th>2</th>\n",
       "      <td>52_0</td>\n",
       "      <td>The Federal Open Market Committee at its meeti...</td>\n",
       "      <td>neutral</td>\n",
       "      <td>0.000077</td>\n",
       "    </tr>\n",
       "    <tr>\n",
       "      <th>3</th>\n",
       "      <td>21_5</td>\n",
       "      <td>Although continuing favorable trends bolster l...</td>\n",
       "      <td>dovish</td>\n",
       "      <td>0.000089</td>\n",
       "    </tr>\n",
       "    <tr>\n",
       "      <th>4</th>\n",
       "      <td>78_7</td>\n",
       "      <td>The Committee perceives that the upside and do...</td>\n",
       "      <td>neutral</td>\n",
       "      <td>0.000072</td>\n",
       "    </tr>\n",
       "    <tr>\n",
       "      <th>...</th>\n",
       "      <td>...</td>\n",
       "      <td>...</td>\n",
       "      <td>...</td>\n",
       "      <td>...</td>\n",
       "    </tr>\n",
       "    <tr>\n",
       "      <th>1238</th>\n",
       "      <td>142_13</td>\n",
       "      <td>To promote a smooth transition in markets as t...</td>\n",
       "      <td>neutral</td>\n",
       "      <td>0.000081</td>\n",
       "    </tr>\n",
       "    <tr>\n",
       "      <th>1239</th>\n",
       "      <td>145_13</td>\n",
       "      <td>In light of ongoing improvements in the functi...</td>\n",
       "      <td>neutral</td>\n",
       "      <td>0.000090</td>\n",
       "    </tr>\n",
       "    <tr>\n",
       "      <th>1240</th>\n",
       "      <td>87_8</td>\n",
       "      <td>With underlying inflation still expected to be...</td>\n",
       "      <td>neutral</td>\n",
       "      <td>0.000073</td>\n",
       "    </tr>\n",
       "    <tr>\n",
       "      <th>1241</th>\n",
       "      <td>37_0</td>\n",
       "      <td>The Federal Open Market Committee decided toda...</td>\n",
       "      <td>neutral</td>\n",
       "      <td>0.000130</td>\n",
       "    </tr>\n",
       "    <tr>\n",
       "      <th>1242</th>\n",
       "      <td>137_6</td>\n",
       "      <td>In light of the declines in the prices of ener...</td>\n",
       "      <td>neutral</td>\n",
       "      <td>0.000075</td>\n",
       "    </tr>\n",
       "  </tbody>\n",
       "</table>\n",
       "<p>1243 rows × 4 columns</p>\n",
       "</div>"
      ],
      "text/plain": [
       "          ID                                               text sentiment  \\\n",
       "0      157_1  The action was taken to cushion the effects on...    dovish   \n",
       "1      161_2  Such trends could foster inflationary imbalanc...   hawkish   \n",
       "2       52_0  The Federal Open Market Committee at its meeti...   neutral   \n",
       "3       21_5  Although continuing favorable trends bolster l...    dovish   \n",
       "4       78_7  The Committee perceives that the upside and do...   neutral   \n",
       "...      ...                                                ...       ...   \n",
       "1238  142_13  To promote a smooth transition in markets as t...   neutral   \n",
       "1239  145_13  In light of ongoing improvements in the functi...   neutral   \n",
       "1240    87_8  With underlying inflation still expected to be...   neutral   \n",
       "1241    37_0  The Federal Open Market Committee decided toda...   neutral   \n",
       "1242   137_6  In light of the declines in the prices of ener...   neutral   \n",
       "\n",
       "          cost  \n",
       "0     0.000074  \n",
       "1     0.000068  \n",
       "2     0.000077  \n",
       "3     0.000089  \n",
       "4     0.000072  \n",
       "...        ...  \n",
       "1238  0.000081  \n",
       "1239  0.000090  \n",
       "1240  0.000073  \n",
       "1241  0.000130  \n",
       "1242  0.000075  \n",
       "\n",
       "[1243 rows x 4 columns]"
      ]
     },
     "execution_count": 120,
     "metadata": {},
     "output_type": "execute_result"
    }
   ],
   "source": [
    "df[\"cost\"] = all_costs\n",
    "df"
   ]
  },
  {
   "cell_type": "code",
   "execution_count": 121,
   "metadata": {
    "colab": {
     "base_uri": "https://localhost:8080/"
    },
    "executionInfo": {
     "elapsed": 338,
     "status": "ok",
     "timestamp": 1718463028626,
     "user": {
      "displayName": "Yabra Muvdi",
      "userId": "05411695158184527633"
     },
     "user_tz": -120
    },
    "id": "2m0bpPeduJ7f",
    "outputId": "a973d136-2260-4a31-81d4-c068937c14d3"
   },
   "outputs": [
    {
     "name": "stdout",
     "output_type": "stream",
     "text": [
      "Total cost of processing the data: 0.1 USD\n"
     ]
    }
   ],
   "source": [
    "print(f\"Total cost of processing the data: {np.round(df['cost'].sum(), 3)} USD\")"
   ]
  },
  {
   "cell_type": "markdown",
   "metadata": {
    "id": "Ly3NjVHcuJ7f"
   },
   "source": [
    "### Running the model on many texts\n",
    "\n",
    "Some resources on how to run many prompts:\n",
    "\n",
    "- [Batch processing](https://cookbook.openai.com/examples/batch_processing)\n",
    "- [Rate limits](https://platform.openai.com/docs/guides/rate-limits/error-mitigation)"
   ]
  },
  {
   "cell_type": "code",
   "execution_count": 122,
   "metadata": {
    "id": "-1zbdtexuJ7f"
   },
   "outputs": [],
   "source": [
    "def classify_response(result):\n",
    "    if \"hawkish\" in result:\n",
    "        return \"hawkish\"\n",
    "    elif \"dovish\" in result:\n",
    "        return \"dovish\"\n",
    "    elif \"neutral\" in result:\n",
    "        return \"neutral\"\n",
    "    else:\n",
    "        return np.nan"
   ]
  },
  {
   "cell_type": "code",
   "execution_count": null,
   "metadata": {
    "colab": {
     "base_uri": "https://localhost:8080/"
    },
    "executionInfo": {
     "elapsed": 645382,
     "status": "ok",
     "timestamp": 1718098490891,
     "user": {
      "displayName": "Yabra Muvdi",
      "userId": "05411695158184527633"
     },
     "user_tz": -120
    },
    "id": "VyauT-UKuJ7f",
    "outputId": "50061141-990e-450c-dc0c-83fd73bb151e"
   },
   "outputs": [
    {
     "name": "stderr",
     "output_type": "stream",
     "text": [
      "100%|██████████| 1243/1243 [10:45<00:00,  1.93it/s]\n"
     ]
    }
   ],
   "source": [
    "# # DON'T RUN!\n",
    "# all_responses = []\n",
    "# for text in tqdm(df[\"text\"]):\n",
    "#     my_prompt = generation_prompt(text)\n",
    "#     response = client.chat.completions.create(\n",
    "#         model=\"gpt-3.5-turbo-0125\",    # name of the model,\n",
    "#         messages=[\n",
    "#             {\"role\": \"system\", \"content\": \"You are a research assistant working for the Fed. You have a degree in Economics.\"},\n",
    "#             {\"role\": \"user\", \"content\": my_prompt},\n",
    "#         ],\n",
    "#         max_tokens=15,               # max number of tokens to be generate\n",
    "#         temperature=0                # temperature\n",
    "#     )\n",
    "#     result = response.choices[0].message.content\n",
    "#     all_responses.append(classify_response(result))\n",
    "\n",
    "# # append data to existing dataframe\n",
    "# df[\"gpt_response\"] = all_responses\n",
    "# df"
   ]
  },
  {
   "cell_type": "code",
   "execution_count": 123,
   "metadata": {
    "colab": {
     "base_uri": "https://localhost:8080/",
     "height": 226
    },
    "executionInfo": {
     "elapsed": 1489,
     "status": "ok",
     "timestamp": 1718463359313,
     "user": {
      "displayName": "Yabra Muvdi",
      "userId": "05411695158184527633"
     },
     "user_tz": -120
    },
    "id": "-Qe2djAf6n4r",
    "outputId": "85b3395c-e65f-4f10-dade-1488479e808c"
   },
   "outputs": [
    {
     "data": {
      "text/html": [
       "<div>\n",
       "<style scoped>\n",
       "    .dataframe tbody tr th:only-of-type {\n",
       "        vertical-align: middle;\n",
       "    }\n",
       "\n",
       "    .dataframe tbody tr th {\n",
       "        vertical-align: top;\n",
       "    }\n",
       "\n",
       "    .dataframe thead th {\n",
       "        text-align: right;\n",
       "    }\n",
       "</style>\n",
       "<table border=\"1\" class=\"dataframe\">\n",
       "  <thead>\n",
       "    <tr style=\"text-align: right;\">\n",
       "      <th></th>\n",
       "      <th>ID</th>\n",
       "      <th>text</th>\n",
       "      <th>sentiment</th>\n",
       "      <th>cost</th>\n",
       "      <th>gpt_response</th>\n",
       "    </tr>\n",
       "  </thead>\n",
       "  <tbody>\n",
       "    <tr>\n",
       "      <th>0</th>\n",
       "      <td>157_1</td>\n",
       "      <td>The action was taken to cushion the effects on...</td>\n",
       "      <td>dovish</td>\n",
       "      <td>0.000052</td>\n",
       "      <td>dovish</td>\n",
       "    </tr>\n",
       "    <tr>\n",
       "      <th>1</th>\n",
       "      <td>161_2</td>\n",
       "      <td>Such trends could foster inflationary imbalanc...</td>\n",
       "      <td>hawkish</td>\n",
       "      <td>0.000045</td>\n",
       "      <td>hawkish</td>\n",
       "    </tr>\n",
       "    <tr>\n",
       "      <th>2</th>\n",
       "      <td>52_0</td>\n",
       "      <td>The Federal Open Market Committee at its meeti...</td>\n",
       "      <td>neutral</td>\n",
       "      <td>0.000055</td>\n",
       "      <td>hawkish</td>\n",
       "    </tr>\n",
       "    <tr>\n",
       "      <th>3</th>\n",
       "      <td>21_5</td>\n",
       "      <td>Although continuing favorable trends bolster l...</td>\n",
       "      <td>dovish</td>\n",
       "      <td>0.000067</td>\n",
       "      <td>dovish</td>\n",
       "    </tr>\n",
       "    <tr>\n",
       "      <th>4</th>\n",
       "      <td>78_7</td>\n",
       "      <td>The Committee perceives that the upside and do...</td>\n",
       "      <td>neutral</td>\n",
       "      <td>0.000049</td>\n",
       "      <td>neutral</td>\n",
       "    </tr>\n",
       "  </tbody>\n",
       "</table>\n",
       "</div>"
      ],
      "text/plain": [
       "      ID                                               text sentiment  \\\n",
       "0  157_1  The action was taken to cushion the effects on...    dovish   \n",
       "1  161_2  Such trends could foster inflationary imbalanc...   hawkish   \n",
       "2   52_0  The Federal Open Market Committee at its meeti...   neutral   \n",
       "3   21_5  Although continuing favorable trends bolster l...    dovish   \n",
       "4   78_7  The Committee perceives that the upside and do...   neutral   \n",
       "\n",
       "       cost gpt_response  \n",
       "0  0.000052       dovish  \n",
       "1  0.000045      hawkish  \n",
       "2  0.000055      hawkish  \n",
       "3  0.000067       dovish  \n",
       "4  0.000049      neutral  "
      ]
     },
     "execution_count": 123,
     "metadata": {},
     "output_type": "execute_result"
    }
   ],
   "source": [
    "# read data after doing GPT classification\n",
    "file_id = \"1v6U80WISF4TxXTLPBvTpiV8iWlIgNsHG\"\n",
    "df = pd.read_csv(f\"https://drive.google.com/uc?export=download&id={file_id}&authuser=0&export=download\", sep=\",\")\n",
    "df.head()"
   ]
  },
  {
   "cell_type": "code",
   "execution_count": 124,
   "metadata": {
    "colab": {
     "base_uri": "https://localhost:8080/"
    },
    "executionInfo": {
     "elapsed": 263,
     "status": "ok",
     "timestamp": 1718463047662,
     "user": {
      "displayName": "Yabra Muvdi",
      "userId": "05411695158184527633"
     },
     "user_tz": -120
    },
    "id": "EZnIQapkq93b",
    "outputId": "90a05938-9c30-43ee-90f4-a6c497a636f7"
   },
   "outputs": [
    {
     "name": "stdout",
     "output_type": "stream",
     "text": [
      "Random guessing accuracy: 0.3333333333333333\n",
      "Accuracy of GPT: 0.6822204344328238\n"
     ]
    }
   ],
   "source": [
    "# calculate accuracy\n",
    "df[\"gpt_correct\"] = df[\"sentiment\"] == df[\"gpt_response\"]\n",
    "gpt_accuracy = df[\"gpt_correct\"].mean()\n",
    "print(f\"Random guessing accuracy: {1/3}\")\n",
    "print(f\"Accuracy of GPT: {gpt_accuracy}\")"
   ]
  },
  {
   "cell_type": "markdown",
   "metadata": {
    "id": "FKnCbqrHZGBj"
   },
   "source": [
    "### Compare performance to a dictionary\n",
    "\n",
    "The objective of this notebook is not to demonstrate how to apply dictionary methods. However, if you want in-depth examples, these two notebooks below provide a good starting point:\n",
    "\n",
    "1. [Dicitonary methods through regular expressions](https://github.com/sekhansen/text_algorithms_econ/blob/main/notebooks/1_regex_dictionary.ipynb)\n",
    "2. [Text preprocessing and dictionary methods](https://github.com/sekhansen/text_algorithms_econ/blob/main/notebooks/2_preprocessing.ipynb)"
   ]
  },
  {
   "cell_type": "code",
   "execution_count": 125,
   "metadata": {
    "id": "PK5w8rMzZHBF"
   },
   "outputs": [],
   "source": [
    "hawkish_terms = [\"tight*\", \"hike*\", \"increas*\", \"hawkish\", \"taper\", \"liftoff\"]\n",
    "dovish_terms = [\"ease*\", \"easing*\", \"cut*\", \"dovish\", \"reduc*\", \"decrea*\"]"
   ]
  },
  {
   "cell_type": "code",
   "execution_count": 126,
   "metadata": {
    "id": "Ug9LviRQ5U5j"
   },
   "outputs": [],
   "source": [
    "# Convert terms with * to regular expressions\n",
    "def convert_to_regex(terms):\n",
    "    regex_terms = []\n",
    "    for term in terms:\n",
    "        if term.endswith('*'):\n",
    "            regex_terms.append(r'\\b' + re.escape(term[:-1]))\n",
    "        else:\n",
    "            regex_terms.append(r'\\b' + re.escape(term) + r'\\b')\n",
    "    return regex_terms\n",
    "\n",
    "hawkish_regex = convert_to_regex(hawkish_terms)\n",
    "dovish_regex = convert_to_regex(dovish_terms)"
   ]
  },
  {
   "cell_type": "code",
   "execution_count": null,
   "metadata": {
    "colab": {
     "base_uri": "https://localhost:8080/"
    },
    "executionInfo": {
     "elapsed": 285,
     "status": "ok",
     "timestamp": 1718463206598,
     "user": {
      "displayName": "Yabra Muvdi",
      "userId": "05411695158184527633"
     },
     "user_tz": -120
    },
    "id": "RXFOUEWB5XEO",
    "outputId": "4dff0b36-813c-4056-fab3-393824b1435d"
   },
   "outputs": [
    {
     "data": {
      "text/plain": [
       "['\\\\btight',\n",
       " '\\\\bhike',\n",
       " '\\\\bincreas',\n",
       " '\\\\bhawkish\\\\b',\n",
       " '\\\\btaper\\\\b',\n",
       " '\\\\bliftoff\\\\b']"
      ]
     },
     "execution_count": 98,
     "metadata": {},
     "output_type": "execute_result"
    }
   ],
   "source": [
    "hawkish_regex"
   ]
  },
  {
   "cell_type": "code",
   "execution_count": 127,
   "metadata": {
    "id": "ZI3Ox63n1viZ"
   },
   "outputs": [],
   "source": [
    "negation_words = [\"less\", \"no\", \"not\", \"little\", \"don’t\", \"doesn’t\", \"hasn’t\", \"haven’t\", \"won’t\", \"shouldn’t\", \"didn’t\"]\n",
    "\n",
    "def is_negated(term_index, words):\n",
    "    if term_index == 0:\n",
    "        return False\n",
    "    return words[term_index - 1].lower() in negation_words"
   ]
  },
  {
   "cell_type": "code",
   "execution_count": 128,
   "metadata": {
    "id": "UZtXi2QO2Gug"
   },
   "outputs": [],
   "source": [
    "def count_terms(sentence):\n",
    "    words = sentence.split()\n",
    "    hawkish_count = 0\n",
    "    dovish_count = 0\n",
    "\n",
    "    for i, word in enumerate(words):\n",
    "        clean_word = re.sub(r'\\W+', '', word.lower())  # Remove punctuation and lowercase\n",
    "        hawkish_found = any(re.search(hawkish_term, clean_word) for hawkish_term in hawkish_regex)\n",
    "        dovish_found = any(re.search(dovish_term, clean_word) for dovish_term in dovish_regex)\n",
    "\n",
    "        if hawkish_found:\n",
    "            if is_negated(i, words):\n",
    "                dovish_count += 1\n",
    "            else:\n",
    "                hawkish_count += 1\n",
    "        elif dovish_found:\n",
    "            if is_negated(i, words):\n",
    "                hawkish_count += 1\n",
    "            else:\n",
    "                dovish_count += 1\n",
    "\n",
    "    return hawkish_count, dovish_count\n",
    "\n",
    "\n",
    "def classify_sentence(hawkish_count, dovish_count):\n",
    "    if hawkish_count > dovish_count:\n",
    "        return \"hawkish\"\n",
    "    elif dovish_count > hawkish_count:\n",
    "        return \"dovish\"\n",
    "    else:\n",
    "        return \"neutral\""
   ]
  },
  {
   "cell_type": "code",
   "execution_count": 129,
   "metadata": {
    "id": "jl4Cmxvt2lLQ"
   },
   "outputs": [],
   "source": [
    "# Classify each sentence\n",
    "dict_classification = []\n",
    "for sentence in df[\"text\"]:\n",
    "    hawk, dove = count_terms(sentence)\n",
    "    classification = classify_sentence(hawk, dove)\n",
    "    dict_classification.append(classification)"
   ]
  },
  {
   "cell_type": "code",
   "execution_count": 130,
   "metadata": {
    "colab": {
     "base_uri": "https://localhost:8080/",
     "height": 261
    },
    "executionInfo": {
     "elapsed": 7,
     "status": "ok",
     "timestamp": 1718463235636,
     "user": {
      "displayName": "Yabra Muvdi",
      "userId": "05411695158184527633"
     },
     "user_tz": -120
    },
    "id": "2EcFj0QC3LN0",
    "outputId": "3cb2cffd-3b02-4a01-c36b-7b7d266fefdb"
   },
   "outputs": [
    {
     "data": {
      "text/html": [
       "<div>\n",
       "<style scoped>\n",
       "    .dataframe tbody tr th:only-of-type {\n",
       "        vertical-align: middle;\n",
       "    }\n",
       "\n",
       "    .dataframe tbody tr th {\n",
       "        vertical-align: top;\n",
       "    }\n",
       "\n",
       "    .dataframe thead th {\n",
       "        text-align: right;\n",
       "    }\n",
       "</style>\n",
       "<table border=\"1\" class=\"dataframe\">\n",
       "  <thead>\n",
       "    <tr style=\"text-align: right;\">\n",
       "      <th></th>\n",
       "      <th>ID</th>\n",
       "      <th>text</th>\n",
       "      <th>sentiment</th>\n",
       "      <th>cost</th>\n",
       "      <th>gpt_response</th>\n",
       "      <th>gpt_correct</th>\n",
       "      <th>dict</th>\n",
       "    </tr>\n",
       "  </thead>\n",
       "  <tbody>\n",
       "    <tr>\n",
       "      <th>0</th>\n",
       "      <td>157_1</td>\n",
       "      <td>The action was taken to cushion the effects on...</td>\n",
       "      <td>dovish</td>\n",
       "      <td>0.000052</td>\n",
       "      <td>dovish</td>\n",
       "      <td>True</td>\n",
       "      <td>hawkish</td>\n",
       "    </tr>\n",
       "    <tr>\n",
       "      <th>1</th>\n",
       "      <td>161_2</td>\n",
       "      <td>Such trends could foster inflationary imbalanc...</td>\n",
       "      <td>hawkish</td>\n",
       "      <td>0.000045</td>\n",
       "      <td>hawkish</td>\n",
       "      <td>True</td>\n",
       "      <td>neutral</td>\n",
       "    </tr>\n",
       "    <tr>\n",
       "      <th>2</th>\n",
       "      <td>52_0</td>\n",
       "      <td>The Federal Open Market Committee at its meeti...</td>\n",
       "      <td>neutral</td>\n",
       "      <td>0.000055</td>\n",
       "      <td>hawkish</td>\n",
       "      <td>False</td>\n",
       "      <td>neutral</td>\n",
       "    </tr>\n",
       "    <tr>\n",
       "      <th>3</th>\n",
       "      <td>21_5</td>\n",
       "      <td>Although continuing favorable trends bolster l...</td>\n",
       "      <td>dovish</td>\n",
       "      <td>0.000067</td>\n",
       "      <td>dovish</td>\n",
       "      <td>True</td>\n",
       "      <td>neutral</td>\n",
       "    </tr>\n",
       "    <tr>\n",
       "      <th>4</th>\n",
       "      <td>78_7</td>\n",
       "      <td>The Committee perceives that the upside and do...</td>\n",
       "      <td>neutral</td>\n",
       "      <td>0.000049</td>\n",
       "      <td>neutral</td>\n",
       "      <td>True</td>\n",
       "      <td>neutral</td>\n",
       "    </tr>\n",
       "  </tbody>\n",
       "</table>\n",
       "</div>"
      ],
      "text/plain": [
       "      ID                                               text sentiment  \\\n",
       "0  157_1  The action was taken to cushion the effects on...    dovish   \n",
       "1  161_2  Such trends could foster inflationary imbalanc...   hawkish   \n",
       "2   52_0  The Federal Open Market Committee at its meeti...   neutral   \n",
       "3   21_5  Although continuing favorable trends bolster l...    dovish   \n",
       "4   78_7  The Committee perceives that the upside and do...   neutral   \n",
       "\n",
       "       cost gpt_response  gpt_correct     dict  \n",
       "0  0.000052       dovish         True  hawkish  \n",
       "1  0.000045      hawkish         True  neutral  \n",
       "2  0.000055      hawkish        False  neutral  \n",
       "3  0.000067       dovish         True  neutral  \n",
       "4  0.000049      neutral         True  neutral  "
      ]
     },
     "execution_count": 130,
     "metadata": {},
     "output_type": "execute_result"
    }
   ],
   "source": [
    "# add results to dataframe\n",
    "df[\"dict\"] = dict_classification\n",
    "df.head()"
   ]
  },
  {
   "cell_type": "code",
   "execution_count": 131,
   "metadata": {
    "colab": {
     "base_uri": "https://localhost:8080/"
    },
    "executionInfo": {
     "elapsed": 232,
     "status": "ok",
     "timestamp": 1718463256756,
     "user": {
      "displayName": "Yabra Muvdi",
      "userId": "05411695158184527633"
     },
     "user_tz": -120
    },
    "id": "Brb7T0hm3N4d",
    "outputId": "30d89393-5d1e-47c8-c151-95fe3d02a698"
   },
   "outputs": [
    {
     "name": "stdout",
     "output_type": "stream",
     "text": [
      "Random guessing accuracy: 0.3333333333333333\n",
      "Accuracy of GPT: 0.6822204344328238\n",
      "Accuracy of Dictionary: 0.46178600160901045\n"
     ]
    }
   ],
   "source": [
    "df[\"dict_correct\"] = df[\"dict\"] == df[\"sentiment\"]\n",
    "dict_accuracy = df[\"dict_correct\"].mean()\n",
    "print(f\"Random guessing accuracy: {1/3}\")\n",
    "print(f\"Accuracy of GPT: {gpt_accuracy}\")\n",
    "print(f\"Accuracy of Dictionary: {dict_accuracy}\")"
   ]
  },
  {
   "cell_type": "markdown",
   "metadata": {
    "id": "X9nP9bxFdgks"
   },
   "source": [
    "# 3. Getting embeddings from the API\n",
    "\n",
    "[OpenAI Embeddings Guide](https://platform.openai.com/docs/guides/embeddings)"
   ]
  },
  {
   "cell_type": "code",
   "execution_count": null,
   "metadata": {
    "id": "4sgEV1Rld78U"
   },
   "outputs": [],
   "source": [
    "# initialize a client using the API key\n",
    "client = OpenAI(api_key=api_key)"
   ]
  },
  {
   "cell_type": "code",
   "execution_count": 132,
   "metadata": {
    "id": "J2DUDdh2dtTx"
   },
   "outputs": [],
   "source": [
    "text = \"This is a small test to get some embeddings.\"\n",
    "result = client.embeddings.create(input = [text],\n",
    "                                  model=\"text-embedding-3-small\")"
   ]
  },
  {
   "cell_type": "code",
   "execution_count": 133,
   "metadata": {
    "colab": {
     "base_uri": "https://localhost:8080/"
    },
    "executionInfo": {
     "elapsed": 325,
     "status": "ok",
     "timestamp": 1718615684665,
     "user": {
      "displayName": "Yabra Muvdi",
      "userId": "05411695158184527633"
     },
     "user_tz": -120
    },
    "id": "jY6yiklleGh_",
    "outputId": "0bba2807-fac1-43f8-f7ef-23763fcdad82"
   },
   "outputs": [
    {
     "data": {
      "text/plain": [
       "1536"
      ]
     },
     "execution_count": 133,
     "metadata": {},
     "output_type": "execute_result"
    }
   ],
   "source": [
    "embeddings = result.data[0].embedding\n",
    "len(embeddings)"
   ]
  }
 ],
 "metadata": {
  "colab": {
   "provenance": [],
   "toc_visible": true
  },
  "kernelspec": {
   "display_name": "base",
   "language": "python",
   "name": "python3"
  },
  "language_info": {
   "codemirror_mode": {
    "name": "ipython",
    "version": 3
   },
   "file_extension": ".py",
   "mimetype": "text/x-python",
   "name": "python",
   "nbconvert_exporter": "python",
   "pygments_lexer": "ipython3",
   "version": "3.12.2"
  },
  "widgets": {
   "application/vnd.jupyter.widget-state+json": {
    "008a4b513b294f6683126926ced6c9b3": {
     "model_module": "@jupyter-widgets/base",
     "model_module_version": "1.2.0",
     "model_name": "LayoutModel",
     "state": {
      "_model_module": "@jupyter-widgets/base",
      "_model_module_version": "1.2.0",
      "_model_name": "LayoutModel",
      "_view_count": null,
      "_view_module": "@jupyter-widgets/base",
      "_view_module_version": "1.2.0",
      "_view_name": "LayoutView",
      "align_content": null,
      "align_items": null,
      "align_self": null,
      "border": null,
      "bottom": null,
      "display": null,
      "flex": null,
      "flex_flow": null,
      "grid_area": null,
      "grid_auto_columns": null,
      "grid_auto_flow": null,
      "grid_auto_rows": null,
      "grid_column": null,
      "grid_gap": null,
      "grid_row": null,
      "grid_template_areas": null,
      "grid_template_columns": null,
      "grid_template_rows": null,
      "height": null,
      "justify_content": null,
      "justify_items": null,
      "left": null,
      "margin": null,
      "max_height": null,
      "max_width": null,
      "min_height": null,
      "min_width": null,
      "object_fit": null,
      "object_position": null,
      "order": null,
      "overflow": null,
      "overflow_x": null,
      "overflow_y": null,
      "padding": null,
      "right": null,
      "top": null,
      "visibility": null,
      "width": null
     }
    },
    "029d6729964d4b2db8c4cd51a5ce594f": {
     "model_module": "@jupyter-widgets/controls",
     "model_module_version": "1.5.0",
     "model_name": "DescriptionStyleModel",
     "state": {
      "_model_module": "@jupyter-widgets/controls",
      "_model_module_version": "1.5.0",
      "_model_name": "DescriptionStyleModel",
      "_view_count": null,
      "_view_module": "@jupyter-widgets/base",
      "_view_module_version": "1.2.0",
      "_view_name": "StyleView",
      "description_width": ""
     }
    },
    "06f0f9564e464ef190ba83457ca5e9f6": {
     "model_module": "@jupyter-widgets/base",
     "model_module_version": "1.2.0",
     "model_name": "LayoutModel",
     "state": {
      "_model_module": "@jupyter-widgets/base",
      "_model_module_version": "1.2.0",
      "_model_name": "LayoutModel",
      "_view_count": null,
      "_view_module": "@jupyter-widgets/base",
      "_view_module_version": "1.2.0",
      "_view_name": "LayoutView",
      "align_content": null,
      "align_items": null,
      "align_self": null,
      "border": null,
      "bottom": null,
      "display": null,
      "flex": null,
      "flex_flow": null,
      "grid_area": null,
      "grid_auto_columns": null,
      "grid_auto_flow": null,
      "grid_auto_rows": null,
      "grid_column": null,
      "grid_gap": null,
      "grid_row": null,
      "grid_template_areas": null,
      "grid_template_columns": null,
      "grid_template_rows": null,
      "height": null,
      "justify_content": null,
      "justify_items": null,
      "left": null,
      "margin": null,
      "max_height": null,
      "max_width": null,
      "min_height": null,
      "min_width": null,
      "object_fit": null,
      "object_position": null,
      "order": null,
      "overflow": null,
      "overflow_x": null,
      "overflow_y": null,
      "padding": null,
      "right": null,
      "top": null,
      "visibility": null,
      "width": null
     }
    },
    "0a83fa1de6a94524af39836a8629103f": {
     "model_module": "@jupyter-widgets/controls",
     "model_module_version": "1.5.0",
     "model_name": "ProgressStyleModel",
     "state": {
      "_model_module": "@jupyter-widgets/controls",
      "_model_module_version": "1.5.0",
      "_model_name": "ProgressStyleModel",
      "_view_count": null,
      "_view_module": "@jupyter-widgets/base",
      "_view_module_version": "1.2.0",
      "_view_name": "StyleView",
      "bar_color": null,
      "description_width": ""
     }
    },
    "0ece7e2b456e4772860bc99b2f0ae3ff": {
     "model_module": "@jupyter-widgets/controls",
     "model_module_version": "1.5.0",
     "model_name": "DescriptionStyleModel",
     "state": {
      "_model_module": "@jupyter-widgets/controls",
      "_model_module_version": "1.5.0",
      "_model_name": "DescriptionStyleModel",
      "_view_count": null,
      "_view_module": "@jupyter-widgets/base",
      "_view_module_version": "1.2.0",
      "_view_name": "StyleView",
      "description_width": ""
     }
    },
    "15c70a6813594e23a7074470660061fe": {
     "model_module": "@jupyter-widgets/controls",
     "model_module_version": "1.5.0",
     "model_name": "DescriptionStyleModel",
     "state": {
      "_model_module": "@jupyter-widgets/controls",
      "_model_module_version": "1.5.0",
      "_model_name": "DescriptionStyleModel",
      "_view_count": null,
      "_view_module": "@jupyter-widgets/base",
      "_view_module_version": "1.2.0",
      "_view_name": "StyleView",
      "description_width": ""
     }
    },
    "24329c0766284f32835e4a13e0a4da96": {
     "model_module": "@jupyter-widgets/controls",
     "model_module_version": "1.5.0",
     "model_name": "DescriptionStyleModel",
     "state": {
      "_model_module": "@jupyter-widgets/controls",
      "_model_module_version": "1.5.0",
      "_model_name": "DescriptionStyleModel",
      "_view_count": null,
      "_view_module": "@jupyter-widgets/base",
      "_view_module_version": "1.2.0",
      "_view_name": "StyleView",
      "description_width": ""
     }
    },
    "25f8981b6e254cbb98ef3b246f533e48": {
     "model_module": "@jupyter-widgets/base",
     "model_module_version": "1.2.0",
     "model_name": "LayoutModel",
     "state": {
      "_model_module": "@jupyter-widgets/base",
      "_model_module_version": "1.2.0",
      "_model_name": "LayoutModel",
      "_view_count": null,
      "_view_module": "@jupyter-widgets/base",
      "_view_module_version": "1.2.0",
      "_view_name": "LayoutView",
      "align_content": null,
      "align_items": null,
      "align_self": null,
      "border": null,
      "bottom": null,
      "display": null,
      "flex": null,
      "flex_flow": null,
      "grid_area": null,
      "grid_auto_columns": null,
      "grid_auto_flow": null,
      "grid_auto_rows": null,
      "grid_column": null,
      "grid_gap": null,
      "grid_row": null,
      "grid_template_areas": null,
      "grid_template_columns": null,
      "grid_template_rows": null,
      "height": null,
      "justify_content": null,
      "justify_items": null,
      "left": null,
      "margin": null,
      "max_height": null,
      "max_width": null,
      "min_height": null,
      "min_width": null,
      "object_fit": null,
      "object_position": null,
      "order": null,
      "overflow": null,
      "overflow_x": null,
      "overflow_y": null,
      "padding": null,
      "right": null,
      "top": null,
      "visibility": null,
      "width": null
     }
    },
    "287ebe5289754a9d80b5b9188a5f2e22": {
     "model_module": "@jupyter-widgets/base",
     "model_module_version": "1.2.0",
     "model_name": "LayoutModel",
     "state": {
      "_model_module": "@jupyter-widgets/base",
      "_model_module_version": "1.2.0",
      "_model_name": "LayoutModel",
      "_view_count": null,
      "_view_module": "@jupyter-widgets/base",
      "_view_module_version": "1.2.0",
      "_view_name": "LayoutView",
      "align_content": null,
      "align_items": null,
      "align_self": null,
      "border": null,
      "bottom": null,
      "display": null,
      "flex": null,
      "flex_flow": null,
      "grid_area": null,
      "grid_auto_columns": null,
      "grid_auto_flow": null,
      "grid_auto_rows": null,
      "grid_column": null,
      "grid_gap": null,
      "grid_row": null,
      "grid_template_areas": null,
      "grid_template_columns": null,
      "grid_template_rows": null,
      "height": null,
      "justify_content": null,
      "justify_items": null,
      "left": null,
      "margin": null,
      "max_height": null,
      "max_width": null,
      "min_height": null,
      "min_width": null,
      "object_fit": null,
      "object_position": null,
      "order": null,
      "overflow": null,
      "overflow_x": null,
      "overflow_y": null,
      "padding": null,
      "right": null,
      "top": null,
      "visibility": null,
      "width": null
     }
    },
    "294e2226586b4475bd9b00f0fcf322da": {
     "model_module": "@jupyter-widgets/base",
     "model_module_version": "1.2.0",
     "model_name": "LayoutModel",
     "state": {
      "_model_module": "@jupyter-widgets/base",
      "_model_module_version": "1.2.0",
      "_model_name": "LayoutModel",
      "_view_count": null,
      "_view_module": "@jupyter-widgets/base",
      "_view_module_version": "1.2.0",
      "_view_name": "LayoutView",
      "align_content": null,
      "align_items": null,
      "align_self": null,
      "border": null,
      "bottom": null,
      "display": null,
      "flex": null,
      "flex_flow": null,
      "grid_area": null,
      "grid_auto_columns": null,
      "grid_auto_flow": null,
      "grid_auto_rows": null,
      "grid_column": null,
      "grid_gap": null,
      "grid_row": null,
      "grid_template_areas": null,
      "grid_template_columns": null,
      "grid_template_rows": null,
      "height": null,
      "justify_content": null,
      "justify_items": null,
      "left": null,
      "margin": null,
      "max_height": null,
      "max_width": null,
      "min_height": null,
      "min_width": null,
      "object_fit": null,
      "object_position": null,
      "order": null,
      "overflow": null,
      "overflow_x": null,
      "overflow_y": null,
      "padding": null,
      "right": null,
      "top": null,
      "visibility": null,
      "width": null
     }
    },
    "2fc89db1d066442095e80116d6583e33": {
     "model_module": "@jupyter-widgets/controls",
     "model_module_version": "1.5.0",
     "model_name": "DescriptionStyleModel",
     "state": {
      "_model_module": "@jupyter-widgets/controls",
      "_model_module_version": "1.5.0",
      "_model_name": "DescriptionStyleModel",
      "_view_count": null,
      "_view_module": "@jupyter-widgets/base",
      "_view_module_version": "1.2.0",
      "_view_name": "StyleView",
      "description_width": ""
     }
    },
    "319867ca960d4cd58513d7cadbf64b62": {
     "model_module": "@jupyter-widgets/base",
     "model_module_version": "1.2.0",
     "model_name": "LayoutModel",
     "state": {
      "_model_module": "@jupyter-widgets/base",
      "_model_module_version": "1.2.0",
      "_model_name": "LayoutModel",
      "_view_count": null,
      "_view_module": "@jupyter-widgets/base",
      "_view_module_version": "1.2.0",
      "_view_name": "LayoutView",
      "align_content": null,
      "align_items": null,
      "align_self": null,
      "border": null,
      "bottom": null,
      "display": null,
      "flex": null,
      "flex_flow": null,
      "grid_area": null,
      "grid_auto_columns": null,
      "grid_auto_flow": null,
      "grid_auto_rows": null,
      "grid_column": null,
      "grid_gap": null,
      "grid_row": null,
      "grid_template_areas": null,
      "grid_template_columns": null,
      "grid_template_rows": null,
      "height": null,
      "justify_content": null,
      "justify_items": null,
      "left": null,
      "margin": null,
      "max_height": null,
      "max_width": null,
      "min_height": null,
      "min_width": null,
      "object_fit": null,
      "object_position": null,
      "order": null,
      "overflow": null,
      "overflow_x": null,
      "overflow_y": null,
      "padding": null,
      "right": null,
      "top": null,
      "visibility": null,
      "width": null
     }
    },
    "32e8502d793b41e8964e0a9ae5848764": {
     "model_module": "@jupyter-widgets/base",
     "model_module_version": "1.2.0",
     "model_name": "LayoutModel",
     "state": {
      "_model_module": "@jupyter-widgets/base",
      "_model_module_version": "1.2.0",
      "_model_name": "LayoutModel",
      "_view_count": null,
      "_view_module": "@jupyter-widgets/base",
      "_view_module_version": "1.2.0",
      "_view_name": "LayoutView",
      "align_content": null,
      "align_items": null,
      "align_self": null,
      "border": null,
      "bottom": null,
      "display": null,
      "flex": null,
      "flex_flow": null,
      "grid_area": null,
      "grid_auto_columns": null,
      "grid_auto_flow": null,
      "grid_auto_rows": null,
      "grid_column": null,
      "grid_gap": null,
      "grid_row": null,
      "grid_template_areas": null,
      "grid_template_columns": null,
      "grid_template_rows": null,
      "height": null,
      "justify_content": null,
      "justify_items": null,
      "left": null,
      "margin": null,
      "max_height": null,
      "max_width": null,
      "min_height": null,
      "min_width": null,
      "object_fit": null,
      "object_position": null,
      "order": null,
      "overflow": null,
      "overflow_x": null,
      "overflow_y": null,
      "padding": null,
      "right": null,
      "top": null,
      "visibility": null,
      "width": null
     }
    },
    "36983f783d1e491699d33c4727038b97": {
     "model_module": "@jupyter-widgets/controls",
     "model_module_version": "1.5.0",
     "model_name": "FloatProgressModel",
     "state": {
      "_dom_classes": [],
      "_model_module": "@jupyter-widgets/controls",
      "_model_module_version": "1.5.0",
      "_model_name": "FloatProgressModel",
      "_view_count": null,
      "_view_module": "@jupyter-widgets/controls",
      "_view_module_version": "1.5.0",
      "_view_name": "ProgressView",
      "bar_style": "success",
      "description": "",
      "description_tooltip": null,
      "layout": "IPY_MODEL_ca2bbff6f14b4b1aac4a4c12d3e055a4",
      "max": 464,
      "min": 0,
      "orientation": "horizontal",
      "style": "IPY_MODEL_0a83fa1de6a94524af39836a8629103f",
      "value": 464
     }
    },
    "43c98ab6dc2c4ea58fcb1ab08fea757b": {
     "model_module": "@jupyter-widgets/base",
     "model_module_version": "1.2.0",
     "model_name": "LayoutModel",
     "state": {
      "_model_module": "@jupyter-widgets/base",
      "_model_module_version": "1.2.0",
      "_model_name": "LayoutModel",
      "_view_count": null,
      "_view_module": "@jupyter-widgets/base",
      "_view_module_version": "1.2.0",
      "_view_name": "LayoutView",
      "align_content": null,
      "align_items": null,
      "align_self": null,
      "border": null,
      "bottom": null,
      "display": null,
      "flex": null,
      "flex_flow": null,
      "grid_area": null,
      "grid_auto_columns": null,
      "grid_auto_flow": null,
      "grid_auto_rows": null,
      "grid_column": null,
      "grid_gap": null,
      "grid_row": null,
      "grid_template_areas": null,
      "grid_template_columns": null,
      "grid_template_rows": null,
      "height": null,
      "justify_content": null,
      "justify_items": null,
      "left": null,
      "margin": null,
      "max_height": null,
      "max_width": null,
      "min_height": null,
      "min_width": null,
      "object_fit": null,
      "object_position": null,
      "order": null,
      "overflow": null,
      "overflow_x": null,
      "overflow_y": null,
      "padding": null,
      "right": null,
      "top": null,
      "visibility": null,
      "width": null
     }
    },
    "48e9636d07574825a090990ca2db4b1d": {
     "model_module": "@jupyter-widgets/controls",
     "model_module_version": "1.5.0",
     "model_name": "ProgressStyleModel",
     "state": {
      "_model_module": "@jupyter-widgets/controls",
      "_model_module_version": "1.5.0",
      "_model_name": "ProgressStyleModel",
      "_view_count": null,
      "_view_module": "@jupyter-widgets/base",
      "_view_module_version": "1.2.0",
      "_view_name": "StyleView",
      "bar_color": null,
      "description_width": ""
     }
    },
    "498938e97d5a493dbf071cfe5b3001e6": {
     "model_module": "@jupyter-widgets/controls",
     "model_module_version": "1.5.0",
     "model_name": "HTMLModel",
     "state": {
      "_dom_classes": [],
      "_model_module": "@jupyter-widgets/controls",
      "_model_module_version": "1.5.0",
      "_model_name": "HTMLModel",
      "_view_count": null,
      "_view_module": "@jupyter-widgets/controls",
      "_view_module_version": "1.5.0",
      "_view_name": "HTMLView",
      "description": "",
      "description_tooltip": null,
      "layout": "IPY_MODEL_f4bee219a6dc4d92b7e6c1de374f8e9d",
      "placeholder": "​",
      "style": "IPY_MODEL_b6be2ac550be4f569f1607de573016ad",
      "value": "model.safetensors: 100%"
     }
    },
    "4b6bb0ee9e164b3299e5e603ef5e5108": {
     "model_module": "@jupyter-widgets/controls",
     "model_module_version": "1.5.0",
     "model_name": "HTMLModel",
     "state": {
      "_dom_classes": [],
      "_model_module": "@jupyter-widgets/controls",
      "_model_module_version": "1.5.0",
      "_model_name": "HTMLModel",
      "_view_count": null,
      "_view_module": "@jupyter-widgets/controls",
      "_view_module_version": "1.5.0",
      "_view_name": "HTMLView",
      "description": "",
      "description_tooltip": null,
      "layout": "IPY_MODEL_f2fde7c7d542402f95896fc7224cbe2e",
      "placeholder": "​",
      "style": "IPY_MODEL_71bb224d7fde44088a8af5f69fb38ca6",
      "value": "generation_config.json: 100%"
     }
    },
    "50217b857ca941a3bec5add54a1f5fba": {
     "model_module": "@jupyter-widgets/base",
     "model_module_version": "1.2.0",
     "model_name": "LayoutModel",
     "state": {
      "_model_module": "@jupyter-widgets/base",
      "_model_module_version": "1.2.0",
      "_model_name": "LayoutModel",
      "_view_count": null,
      "_view_module": "@jupyter-widgets/base",
      "_view_module_version": "1.2.0",
      "_view_name": "LayoutView",
      "align_content": null,
      "align_items": null,
      "align_self": null,
      "border": null,
      "bottom": null,
      "display": null,
      "flex": null,
      "flex_flow": null,
      "grid_area": null,
      "grid_auto_columns": null,
      "grid_auto_flow": null,
      "grid_auto_rows": null,
      "grid_column": null,
      "grid_gap": null,
      "grid_row": null,
      "grid_template_areas": null,
      "grid_template_columns": null,
      "grid_template_rows": null,
      "height": null,
      "justify_content": null,
      "justify_items": null,
      "left": null,
      "margin": null,
      "max_height": null,
      "max_width": null,
      "min_height": null,
      "min_width": null,
      "object_fit": null,
      "object_position": null,
      "order": null,
      "overflow": null,
      "overflow_x": null,
      "overflow_y": null,
      "padding": null,
      "right": null,
      "top": null,
      "visibility": null,
      "width": null
     }
    },
    "5355fe63b8f04b46ba92572f23b559e8": {
     "model_module": "@jupyter-widgets/controls",
     "model_module_version": "1.5.0",
     "model_name": "FloatProgressModel",
     "state": {
      "_dom_classes": [],
      "_model_module": "@jupyter-widgets/controls",
      "_model_module_version": "1.5.0",
      "_model_name": "FloatProgressModel",
      "_view_count": null,
      "_view_module": "@jupyter-widgets/controls",
      "_view_module_version": "1.5.0",
      "_view_name": "ProgressView",
      "bar_style": "success",
      "description": "",
      "description_tooltip": null,
      "layout": "IPY_MODEL_d0778230403f44f3b76bca878c0a97e1",
      "max": 1200,
      "min": 0,
      "orientation": "horizontal",
      "style": "IPY_MODEL_753829654dff42c2892152777dbe6341",
      "value": 1200
     }
    },
    "53bbebf59f744ba280616e988104f025": {
     "model_module": "@jupyter-widgets/controls",
     "model_module_version": "1.5.0",
     "model_name": "HBoxModel",
     "state": {
      "_dom_classes": [],
      "_model_module": "@jupyter-widgets/controls",
      "_model_module_version": "1.5.0",
      "_model_name": "HBoxModel",
      "_view_count": null,
      "_view_module": "@jupyter-widgets/controls",
      "_view_module_version": "1.5.0",
      "_view_name": "HBoxView",
      "box_style": "",
      "children": [
       "IPY_MODEL_d71885e688a248a7accd371ab89804b8",
       "IPY_MODEL_5355fe63b8f04b46ba92572f23b559e8",
       "IPY_MODEL_e82f102c69cb4e0dba05fce01d2af010"
      ],
      "layout": "IPY_MODEL_873d1fea39db49e4bad1ac0a6cf47d63"
     }
    },
    "543bd317525a484abe792a3aa4fc0c8b": {
     "model_module": "@jupyter-widgets/base",
     "model_module_version": "1.2.0",
     "model_name": "LayoutModel",
     "state": {
      "_model_module": "@jupyter-widgets/base",
      "_model_module_version": "1.2.0",
      "_model_name": "LayoutModel",
      "_view_count": null,
      "_view_module": "@jupyter-widgets/base",
      "_view_module_version": "1.2.0",
      "_view_name": "LayoutView",
      "align_content": null,
      "align_items": null,
      "align_self": null,
      "border": null,
      "bottom": null,
      "display": null,
      "flex": null,
      "flex_flow": null,
      "grid_area": null,
      "grid_auto_columns": null,
      "grid_auto_flow": null,
      "grid_auto_rows": null,
      "grid_column": null,
      "grid_gap": null,
      "grid_row": null,
      "grid_template_areas": null,
      "grid_template_columns": null,
      "grid_template_rows": null,
      "height": null,
      "justify_content": null,
      "justify_items": null,
      "left": null,
      "margin": null,
      "max_height": null,
      "max_width": null,
      "min_height": null,
      "min_width": null,
      "object_fit": null,
      "object_position": null,
      "order": null,
      "overflow": null,
      "overflow_x": null,
      "overflow_y": null,
      "padding": null,
      "right": null,
      "top": null,
      "visibility": null,
      "width": null
     }
    },
    "561cdf0ad41f498aa7bfa99b6ef006c7": {
     "model_module": "@jupyter-widgets/controls",
     "model_module_version": "1.5.0",
     "model_name": "ProgressStyleModel",
     "state": {
      "_model_module": "@jupyter-widgets/controls",
      "_model_module_version": "1.5.0",
      "_model_name": "ProgressStyleModel",
      "_view_count": null,
      "_view_module": "@jupyter-widgets/base",
      "_view_module_version": "1.2.0",
      "_view_name": "StyleView",
      "bar_color": null,
      "description_width": ""
     }
    },
    "608495b02366437587999736adced163": {
     "model_module": "@jupyter-widgets/controls",
     "model_module_version": "1.5.0",
     "model_name": "HBoxModel",
     "state": {
      "_dom_classes": [],
      "_model_module": "@jupyter-widgets/controls",
      "_model_module_version": "1.5.0",
      "_model_name": "HBoxModel",
      "_view_count": null,
      "_view_module": "@jupyter-widgets/controls",
      "_view_module_version": "1.5.0",
      "_view_name": "HBoxView",
      "box_style": "",
      "children": [
       "IPY_MODEL_498938e97d5a493dbf071cfe5b3001e6",
       "IPY_MODEL_a3f38292a5304dae8b693da7357cf6cb",
       "IPY_MODEL_cf86279452fd4d77a5fa359bacb2d2b9"
      ],
      "layout": "IPY_MODEL_be92dc7c23a140c28a2a52aeb5a66109"
     }
    },
    "6b34d571d4964d7287ed7f9583f7d9a9": {
     "model_module": "@jupyter-widgets/controls",
     "model_module_version": "1.5.0",
     "model_name": "ProgressStyleModel",
     "state": {
      "_model_module": "@jupyter-widgets/controls",
      "_model_module_version": "1.5.0",
      "_model_name": "ProgressStyleModel",
      "_view_count": null,
      "_view_module": "@jupyter-widgets/base",
      "_view_module_version": "1.2.0",
      "_view_name": "StyleView",
      "bar_color": null,
      "description_width": ""
     }
    },
    "71bb224d7fde44088a8af5f69fb38ca6": {
     "model_module": "@jupyter-widgets/controls",
     "model_module_version": "1.5.0",
     "model_name": "DescriptionStyleModel",
     "state": {
      "_model_module": "@jupyter-widgets/controls",
      "_model_module_version": "1.5.0",
      "_model_name": "DescriptionStyleModel",
      "_view_count": null,
      "_view_module": "@jupyter-widgets/base",
      "_view_module_version": "1.2.0",
      "_view_name": "StyleView",
      "description_width": ""
     }
    },
    "753829654dff42c2892152777dbe6341": {
     "model_module": "@jupyter-widgets/controls",
     "model_module_version": "1.5.0",
     "model_name": "ProgressStyleModel",
     "state": {
      "_model_module": "@jupyter-widgets/controls",
      "_model_module_version": "1.5.0",
      "_model_name": "ProgressStyleModel",
      "_view_count": null,
      "_view_module": "@jupyter-widgets/base",
      "_view_module_version": "1.2.0",
      "_view_name": "StyleView",
      "bar_color": null,
      "description_width": ""
     }
    },
    "75e3ef2d5a674f4a8e72f0f79f525154": {
     "model_module": "@jupyter-widgets/base",
     "model_module_version": "1.2.0",
     "model_name": "LayoutModel",
     "state": {
      "_model_module": "@jupyter-widgets/base",
      "_model_module_version": "1.2.0",
      "_model_name": "LayoutModel",
      "_view_count": null,
      "_view_module": "@jupyter-widgets/base",
      "_view_module_version": "1.2.0",
      "_view_name": "LayoutView",
      "align_content": null,
      "align_items": null,
      "align_self": null,
      "border": null,
      "bottom": null,
      "display": null,
      "flex": null,
      "flex_flow": null,
      "grid_area": null,
      "grid_auto_columns": null,
      "grid_auto_flow": null,
      "grid_auto_rows": null,
      "grid_column": null,
      "grid_gap": null,
      "grid_row": null,
      "grid_template_areas": null,
      "grid_template_columns": null,
      "grid_template_rows": null,
      "height": null,
      "justify_content": null,
      "justify_items": null,
      "left": null,
      "margin": null,
      "max_height": null,
      "max_width": null,
      "min_height": null,
      "min_width": null,
      "object_fit": null,
      "object_position": null,
      "order": null,
      "overflow": null,
      "overflow_x": null,
      "overflow_y": null,
      "padding": null,
      "right": null,
      "top": null,
      "visibility": null,
      "width": null
     }
    },
    "7ba5e60267734726a3a97253eed48dea": {
     "model_module": "@jupyter-widgets/controls",
     "model_module_version": "1.5.0",
     "model_name": "HBoxModel",
     "state": {
      "_dom_classes": [],
      "_model_module": "@jupyter-widgets/controls",
      "_model_module_version": "1.5.0",
      "_model_name": "HBoxModel",
      "_view_count": null,
      "_view_module": "@jupyter-widgets/controls",
      "_view_module_version": "1.5.0",
      "_view_name": "HBoxView",
      "box_style": "",
      "children": [
       "IPY_MODEL_93908ec0d29c42098f543d86475c1c6e",
       "IPY_MODEL_93c4cabd739e46a1bbaedb3c5f6cc698",
       "IPY_MODEL_ace1971e31cc4fc690668d011e6c525f"
      ],
      "layout": "IPY_MODEL_adc5ea7d14274634a4eaab606af7fa53"
     }
    },
    "7c0f1b9d4d314eb1bc5c61bea0633442": {
     "model_module": "@jupyter-widgets/base",
     "model_module_version": "1.2.0",
     "model_name": "LayoutModel",
     "state": {
      "_model_module": "@jupyter-widgets/base",
      "_model_module_version": "1.2.0",
      "_model_name": "LayoutModel",
      "_view_count": null,
      "_view_module": "@jupyter-widgets/base",
      "_view_module_version": "1.2.0",
      "_view_name": "LayoutView",
      "align_content": null,
      "align_items": null,
      "align_self": null,
      "border": null,
      "bottom": null,
      "display": null,
      "flex": null,
      "flex_flow": null,
      "grid_area": null,
      "grid_auto_columns": null,
      "grid_auto_flow": null,
      "grid_auto_rows": null,
      "grid_column": null,
      "grid_gap": null,
      "grid_row": null,
      "grid_template_areas": null,
      "grid_template_columns": null,
      "grid_template_rows": null,
      "height": null,
      "justify_content": null,
      "justify_items": null,
      "left": null,
      "margin": null,
      "max_height": null,
      "max_width": null,
      "min_height": null,
      "min_width": null,
      "object_fit": null,
      "object_position": null,
      "order": null,
      "overflow": null,
      "overflow_x": null,
      "overflow_y": null,
      "padding": null,
      "right": null,
      "top": null,
      "visibility": null,
      "width": null
     }
    },
    "7d0504d1acbc4d5e977ec5eba68f3e0b": {
     "model_module": "@jupyter-widgets/base",
     "model_module_version": "1.2.0",
     "model_name": "LayoutModel",
     "state": {
      "_model_module": "@jupyter-widgets/base",
      "_model_module_version": "1.2.0",
      "_model_name": "LayoutModel",
      "_view_count": null,
      "_view_module": "@jupyter-widgets/base",
      "_view_module_version": "1.2.0",
      "_view_name": "LayoutView",
      "align_content": null,
      "align_items": null,
      "align_self": null,
      "border": null,
      "bottom": null,
      "display": null,
      "flex": null,
      "flex_flow": null,
      "grid_area": null,
      "grid_auto_columns": null,
      "grid_auto_flow": null,
      "grid_auto_rows": null,
      "grid_column": null,
      "grid_gap": null,
      "grid_row": null,
      "grid_template_areas": null,
      "grid_template_columns": null,
      "grid_template_rows": null,
      "height": null,
      "justify_content": null,
      "justify_items": null,
      "left": null,
      "margin": null,
      "max_height": null,
      "max_width": null,
      "min_height": null,
      "min_width": null,
      "object_fit": null,
      "object_position": null,
      "order": null,
      "overflow": null,
      "overflow_x": null,
      "overflow_y": null,
      "padding": null,
      "right": null,
      "top": null,
      "visibility": null,
      "width": null
     }
    },
    "7d0aa91a374340f5820c4c60b14a7d05": {
     "model_module": "@jupyter-widgets/controls",
     "model_module_version": "1.5.0",
     "model_name": "ProgressStyleModel",
     "state": {
      "_model_module": "@jupyter-widgets/controls",
      "_model_module_version": "1.5.0",
      "_model_name": "ProgressStyleModel",
      "_view_count": null,
      "_view_module": "@jupyter-widgets/base",
      "_view_module_version": "1.2.0",
      "_view_name": "StyleView",
      "bar_color": null,
      "description_width": ""
     }
    },
    "7e0ddfb52eff4576b5e0c5fec15e4e75": {
     "model_module": "@jupyter-widgets/base",
     "model_module_version": "1.2.0",
     "model_name": "LayoutModel",
     "state": {
      "_model_module": "@jupyter-widgets/base",
      "_model_module_version": "1.2.0",
      "_model_name": "LayoutModel",
      "_view_count": null,
      "_view_module": "@jupyter-widgets/base",
      "_view_module_version": "1.2.0",
      "_view_name": "LayoutView",
      "align_content": null,
      "align_items": null,
      "align_self": null,
      "border": null,
      "bottom": null,
      "display": null,
      "flex": null,
      "flex_flow": null,
      "grid_area": null,
      "grid_auto_columns": null,
      "grid_auto_flow": null,
      "grid_auto_rows": null,
      "grid_column": null,
      "grid_gap": null,
      "grid_row": null,
      "grid_template_areas": null,
      "grid_template_columns": null,
      "grid_template_rows": null,
      "height": null,
      "justify_content": null,
      "justify_items": null,
      "left": null,
      "margin": null,
      "max_height": null,
      "max_width": null,
      "min_height": null,
      "min_width": null,
      "object_fit": null,
      "object_position": null,
      "order": null,
      "overflow": null,
      "overflow_x": null,
      "overflow_y": null,
      "padding": null,
      "right": null,
      "top": null,
      "visibility": null,
      "width": null
     }
    },
    "860e12880848415499a5b11534556f55": {
     "model_module": "@jupyter-widgets/controls",
     "model_module_version": "1.5.0",
     "model_name": "DescriptionStyleModel",
     "state": {
      "_model_module": "@jupyter-widgets/controls",
      "_model_module_version": "1.5.0",
      "_model_name": "DescriptionStyleModel",
      "_view_count": null,
      "_view_module": "@jupyter-widgets/base",
      "_view_module_version": "1.2.0",
      "_view_name": "StyleView",
      "description_width": ""
     }
    },
    "873d1fea39db49e4bad1ac0a6cf47d63": {
     "model_module": "@jupyter-widgets/base",
     "model_module_version": "1.2.0",
     "model_name": "LayoutModel",
     "state": {
      "_model_module": "@jupyter-widgets/base",
      "_model_module_version": "1.2.0",
      "_model_name": "LayoutModel",
      "_view_count": null,
      "_view_module": "@jupyter-widgets/base",
      "_view_module_version": "1.2.0",
      "_view_name": "LayoutView",
      "align_content": null,
      "align_items": null,
      "align_self": null,
      "border": null,
      "bottom": null,
      "display": null,
      "flex": null,
      "flex_flow": null,
      "grid_area": null,
      "grid_auto_columns": null,
      "grid_auto_flow": null,
      "grid_auto_rows": null,
      "grid_column": null,
      "grid_gap": null,
      "grid_row": null,
      "grid_template_areas": null,
      "grid_template_columns": null,
      "grid_template_rows": null,
      "height": null,
      "justify_content": null,
      "justify_items": null,
      "left": null,
      "margin": null,
      "max_height": null,
      "max_width": null,
      "min_height": null,
      "min_width": null,
      "object_fit": null,
      "object_position": null,
      "order": null,
      "overflow": null,
      "overflow_x": null,
      "overflow_y": null,
      "padding": null,
      "right": null,
      "top": null,
      "visibility": null,
      "width": null
     }
    },
    "8b33707bb87447da85c065802a84d652": {
     "model_module": "@jupyter-widgets/base",
     "model_module_version": "1.2.0",
     "model_name": "LayoutModel",
     "state": {
      "_model_module": "@jupyter-widgets/base",
      "_model_module_version": "1.2.0",
      "_model_name": "LayoutModel",
      "_view_count": null,
      "_view_module": "@jupyter-widgets/base",
      "_view_module_version": "1.2.0",
      "_view_name": "LayoutView",
      "align_content": null,
      "align_items": null,
      "align_self": null,
      "border": null,
      "bottom": null,
      "display": null,
      "flex": null,
      "flex_flow": null,
      "grid_area": null,
      "grid_auto_columns": null,
      "grid_auto_flow": null,
      "grid_auto_rows": null,
      "grid_column": null,
      "grid_gap": null,
      "grid_row": null,
      "grid_template_areas": null,
      "grid_template_columns": null,
      "grid_template_rows": null,
      "height": null,
      "justify_content": null,
      "justify_items": null,
      "left": null,
      "margin": null,
      "max_height": null,
      "max_width": null,
      "min_height": null,
      "min_width": null,
      "object_fit": null,
      "object_position": null,
      "order": null,
      "overflow": null,
      "overflow_x": null,
      "overflow_y": null,
      "padding": null,
      "right": null,
      "top": null,
      "visibility": null,
      "width": null
     }
    },
    "8e67093e8f9145c2a0da181a6f2479f0": {
     "model_module": "@jupyter-widgets/base",
     "model_module_version": "1.2.0",
     "model_name": "LayoutModel",
     "state": {
      "_model_module": "@jupyter-widgets/base",
      "_model_module_version": "1.2.0",
      "_model_name": "LayoutModel",
      "_view_count": null,
      "_view_module": "@jupyter-widgets/base",
      "_view_module_version": "1.2.0",
      "_view_name": "LayoutView",
      "align_content": null,
      "align_items": null,
      "align_self": null,
      "border": null,
      "bottom": null,
      "display": null,
      "flex": null,
      "flex_flow": null,
      "grid_area": null,
      "grid_auto_columns": null,
      "grid_auto_flow": null,
      "grid_auto_rows": null,
      "grid_column": null,
      "grid_gap": null,
      "grid_row": null,
      "grid_template_areas": null,
      "grid_template_columns": null,
      "grid_template_rows": null,
      "height": null,
      "justify_content": null,
      "justify_items": null,
      "left": null,
      "margin": null,
      "max_height": null,
      "max_width": null,
      "min_height": null,
      "min_width": null,
      "object_fit": null,
      "object_position": null,
      "order": null,
      "overflow": null,
      "overflow_x": null,
      "overflow_y": null,
      "padding": null,
      "right": null,
      "top": null,
      "visibility": null,
      "width": null
     }
    },
    "8e82ac6ad0864938b407ecb9b0c1da0d": {
     "model_module": "@jupyter-widgets/controls",
     "model_module_version": "1.5.0",
     "model_name": "HTMLModel",
     "state": {
      "_dom_classes": [],
      "_model_module": "@jupyter-widgets/controls",
      "_model_module_version": "1.5.0",
      "_model_name": "HTMLModel",
      "_view_count": null,
      "_view_module": "@jupyter-widgets/controls",
      "_view_module_version": "1.5.0",
      "_view_name": "HTMLView",
      "description": "",
      "description_tooltip": null,
      "layout": "IPY_MODEL_50217b857ca941a3bec5add54a1f5fba",
      "placeholder": "​",
      "style": "IPY_MODEL_0ece7e2b456e4772860bc99b2f0ae3ff",
      "value": " 172/172 [00:00&lt;00:00, 12.2kB/s]"
     }
    },
    "8f2e97d88ece443f820ebb600790d83e": {
     "model_module": "@jupyter-widgets/controls",
     "model_module_version": "1.5.0",
     "model_name": "HTMLModel",
     "state": {
      "_dom_classes": [],
      "_model_module": "@jupyter-widgets/controls",
      "_model_module_version": "1.5.0",
      "_model_name": "HTMLModel",
      "_view_count": null,
      "_view_module": "@jupyter-widgets/controls",
      "_view_module_version": "1.5.0",
      "_view_name": "HTMLView",
      "description": "",
      "description_tooltip": null,
      "layout": "IPY_MODEL_95b4bb3cc9b842f9acb5a2ba0b0c50c4",
      "placeholder": "​",
      "style": "IPY_MODEL_029d6729964d4b2db8c4cd51a5ce594f",
      "value": " 464/464 [00:00&lt;00:00, 32.4kB/s]"
     }
    },
    "93908ec0d29c42098f543d86475c1c6e": {
     "model_module": "@jupyter-widgets/controls",
     "model_module_version": "1.5.0",
     "model_name": "HTMLModel",
     "state": {
      "_dom_classes": [],
      "_model_module": "@jupyter-widgets/controls",
      "_model_module_version": "1.5.0",
      "_model_name": "HTMLModel",
      "_view_count": null,
      "_view_module": "@jupyter-widgets/controls",
      "_view_module_version": "1.5.0",
      "_view_name": "HTMLView",
      "description": "",
      "description_tooltip": null,
      "layout": "IPY_MODEL_8b33707bb87447da85c065802a84d652",
      "placeholder": "​",
      "style": "IPY_MODEL_24329c0766284f32835e4a13e0a4da96",
      "value": "tokenizer_config.json: 100%"
     }
    },
    "93c4cabd739e46a1bbaedb3c5f6cc698": {
     "model_module": "@jupyter-widgets/controls",
     "model_module_version": "1.5.0",
     "model_name": "FloatProgressModel",
     "state": {
      "_dom_classes": [],
      "_model_module": "@jupyter-widgets/controls",
      "_model_module_version": "1.5.0",
      "_model_name": "FloatProgressModel",
      "_view_count": null,
      "_view_module": "@jupyter-widgets/controls",
      "_view_module_version": "1.5.0",
      "_view_name": "ProgressView",
      "bar_style": "success",
      "description": "",
      "description_tooltip": null,
      "layout": "IPY_MODEL_7e0ddfb52eff4576b5e0c5fec15e4e75",
      "max": 50641,
      "min": 0,
      "orientation": "horizontal",
      "style": "IPY_MODEL_48e9636d07574825a090990ca2db4b1d",
      "value": 50641
     }
    },
    "95b4bb3cc9b842f9acb5a2ba0b0c50c4": {
     "model_module": "@jupyter-widgets/base",
     "model_module_version": "1.2.0",
     "model_name": "LayoutModel",
     "state": {
      "_model_module": "@jupyter-widgets/base",
      "_model_module_version": "1.2.0",
      "_model_name": "LayoutModel",
      "_view_count": null,
      "_view_module": "@jupyter-widgets/base",
      "_view_module_version": "1.2.0",
      "_view_name": "LayoutView",
      "align_content": null,
      "align_items": null,
      "align_self": null,
      "border": null,
      "bottom": null,
      "display": null,
      "flex": null,
      "flex_flow": null,
      "grid_area": null,
      "grid_auto_columns": null,
      "grid_auto_flow": null,
      "grid_auto_rows": null,
      "grid_column": null,
      "grid_gap": null,
      "grid_row": null,
      "grid_template_areas": null,
      "grid_template_columns": null,
      "grid_template_rows": null,
      "height": null,
      "justify_content": null,
      "justify_items": null,
      "left": null,
      "margin": null,
      "max_height": null,
      "max_width": null,
      "min_height": null,
      "min_width": null,
      "object_fit": null,
      "object_position": null,
      "order": null,
      "overflow": null,
      "overflow_x": null,
      "overflow_y": null,
      "padding": null,
      "right": null,
      "top": null,
      "visibility": null,
      "width": null
     }
    },
    "9feca4228ac341509355c82976e28990": {
     "model_module": "@jupyter-widgets/controls",
     "model_module_version": "1.5.0",
     "model_name": "DescriptionStyleModel",
     "state": {
      "_model_module": "@jupyter-widgets/controls",
      "_model_module_version": "1.5.0",
      "_model_name": "DescriptionStyleModel",
      "_view_count": null,
      "_view_module": "@jupyter-widgets/base",
      "_view_module_version": "1.2.0",
      "_view_name": "StyleView",
      "description_width": ""
     }
    },
    "a3f38292a5304dae8b693da7357cf6cb": {
     "model_module": "@jupyter-widgets/controls",
     "model_module_version": "1.5.0",
     "model_name": "FloatProgressModel",
     "state": {
      "_dom_classes": [],
      "_model_module": "@jupyter-widgets/controls",
      "_model_module_version": "1.5.0",
      "_model_name": "FloatProgressModel",
      "_view_count": null,
      "_view_module": "@jupyter-widgets/controls",
      "_view_module_version": "1.5.0",
      "_view_name": "ProgressView",
      "bar_style": "success",
      "description": "",
      "description_tooltip": null,
      "layout": "IPY_MODEL_25f8981b6e254cbb98ef3b246f533e48",
      "max": 5702746405,
      "min": 0,
      "orientation": "horizontal",
      "style": "IPY_MODEL_561cdf0ad41f498aa7bfa99b6ef006c7",
      "value": 5702746405
     }
    },
    "a4b4f439df0540389017f4ab52e1ec75": {
     "model_module": "@jupyter-widgets/controls",
     "model_module_version": "1.5.0",
     "model_name": "HBoxModel",
     "state": {
      "_dom_classes": [],
      "_model_module": "@jupyter-widgets/controls",
      "_model_module_version": "1.5.0",
      "_model_name": "HBoxModel",
      "_view_count": null,
      "_view_module": "@jupyter-widgets/controls",
      "_view_module_version": "1.5.0",
      "_view_name": "HBoxView",
      "box_style": "",
      "children": [
       "IPY_MODEL_daef7a63dd2a40df86cd088c702c349a",
       "IPY_MODEL_b794d34344c54301bd935a12dacb73e9",
       "IPY_MODEL_fae78868047848a2a2382a269308977a"
      ],
      "layout": "IPY_MODEL_75e3ef2d5a674f4a8e72f0f79f525154"
     }
    },
    "ace1971e31cc4fc690668d011e6c525f": {
     "model_module": "@jupyter-widgets/controls",
     "model_module_version": "1.5.0",
     "model_name": "HTMLModel",
     "state": {
      "_dom_classes": [],
      "_model_module": "@jupyter-widgets/controls",
      "_model_module_version": "1.5.0",
      "_model_name": "HTMLModel",
      "_view_count": null,
      "_view_module": "@jupyter-widgets/controls",
      "_view_module_version": "1.5.0",
      "_view_name": "HTMLView",
      "description": "",
      "description_tooltip": null,
      "layout": "IPY_MODEL_7d0504d1acbc4d5e977ec5eba68f3e0b",
      "placeholder": "​",
      "style": "IPY_MODEL_2fc89db1d066442095e80116d6583e33",
      "value": " 50.6k/50.6k [00:00&lt;00:00, 2.77MB/s]"
     }
    },
    "adc5ea7d14274634a4eaab606af7fa53": {
     "model_module": "@jupyter-widgets/base",
     "model_module_version": "1.2.0",
     "model_name": "LayoutModel",
     "state": {
      "_model_module": "@jupyter-widgets/base",
      "_model_module_version": "1.2.0",
      "_model_name": "LayoutModel",
      "_view_count": null,
      "_view_module": "@jupyter-widgets/base",
      "_view_module_version": "1.2.0",
      "_view_name": "LayoutView",
      "align_content": null,
      "align_items": null,
      "align_self": null,
      "border": null,
      "bottom": null,
      "display": null,
      "flex": null,
      "flex_flow": null,
      "grid_area": null,
      "grid_auto_columns": null,
      "grid_auto_flow": null,
      "grid_auto_rows": null,
      "grid_column": null,
      "grid_gap": null,
      "grid_row": null,
      "grid_template_areas": null,
      "grid_template_columns": null,
      "grid_template_rows": null,
      "height": null,
      "justify_content": null,
      "justify_items": null,
      "left": null,
      "margin": null,
      "max_height": null,
      "max_width": null,
      "min_height": null,
      "min_width": null,
      "object_fit": null,
      "object_position": null,
      "order": null,
      "overflow": null,
      "overflow_x": null,
      "overflow_y": null,
      "padding": null,
      "right": null,
      "top": null,
      "visibility": null,
      "width": null
     }
    },
    "b6be2ac550be4f569f1607de573016ad": {
     "model_module": "@jupyter-widgets/controls",
     "model_module_version": "1.5.0",
     "model_name": "DescriptionStyleModel",
     "state": {
      "_model_module": "@jupyter-widgets/controls",
      "_model_module_version": "1.5.0",
      "_model_name": "DescriptionStyleModel",
      "_view_count": null,
      "_view_module": "@jupyter-widgets/base",
      "_view_module_version": "1.2.0",
      "_view_name": "StyleView",
      "description_width": ""
     }
    },
    "b794d34344c54301bd935a12dacb73e9": {
     "model_module": "@jupyter-widgets/controls",
     "model_module_version": "1.5.0",
     "model_name": "FloatProgressModel",
     "state": {
      "_dom_classes": [],
      "_model_module": "@jupyter-widgets/controls",
      "_model_module_version": "1.5.0",
      "_model_name": "FloatProgressModel",
      "_view_count": null,
      "_view_module": "@jupyter-widgets/controls",
      "_view_module_version": "1.5.0",
      "_view_name": "ProgressView",
      "bar_style": "success",
      "description": "",
      "description_tooltip": null,
      "layout": "IPY_MODEL_319867ca960d4cd58513d7cadbf64b62",
      "max": 9085698,
      "min": 0,
      "orientation": "horizontal",
      "style": "IPY_MODEL_7d0aa91a374340f5820c4c60b14a7d05",
      "value": 9085698
     }
    },
    "bc758eb10a4545949403cd530961c210": {
     "model_module": "@jupyter-widgets/controls",
     "model_module_version": "1.5.0",
     "model_name": "HBoxModel",
     "state": {
      "_dom_classes": [],
      "_model_module": "@jupyter-widgets/controls",
      "_model_module_version": "1.5.0",
      "_model_name": "HBoxModel",
      "_view_count": null,
      "_view_module": "@jupyter-widgets/controls",
      "_view_module_version": "1.5.0",
      "_view_name": "HBoxView",
      "box_style": "",
      "children": [
       "IPY_MODEL_bcb15417c15747e5af9b327c867d9442",
       "IPY_MODEL_36983f783d1e491699d33c4727038b97",
       "IPY_MODEL_8f2e97d88ece443f820ebb600790d83e"
      ],
      "layout": "IPY_MODEL_543bd317525a484abe792a3aa4fc0c8b"
     }
    },
    "bcb15417c15747e5af9b327c867d9442": {
     "model_module": "@jupyter-widgets/controls",
     "model_module_version": "1.5.0",
     "model_name": "HTMLModel",
     "state": {
      "_dom_classes": [],
      "_model_module": "@jupyter-widgets/controls",
      "_model_module_version": "1.5.0",
      "_model_name": "HTMLModel",
      "_view_count": null,
      "_view_module": "@jupyter-widgets/controls",
      "_view_module_version": "1.5.0",
      "_view_name": "HTMLView",
      "description": "",
      "description_tooltip": null,
      "layout": "IPY_MODEL_43c98ab6dc2c4ea58fcb1ab08fea757b",
      "placeholder": "​",
      "style": "IPY_MODEL_ed179df796e74894b8353e5e61aee225",
      "value": "special_tokens_map.json: 100%"
     }
    },
    "be92dc7c23a140c28a2a52aeb5a66109": {
     "model_module": "@jupyter-widgets/base",
     "model_module_version": "1.2.0",
     "model_name": "LayoutModel",
     "state": {
      "_model_module": "@jupyter-widgets/base",
      "_model_module_version": "1.2.0",
      "_model_name": "LayoutModel",
      "_view_count": null,
      "_view_module": "@jupyter-widgets/base",
      "_view_module_version": "1.2.0",
      "_view_name": "LayoutView",
      "align_content": null,
      "align_items": null,
      "align_self": null,
      "border": null,
      "bottom": null,
      "display": null,
      "flex": null,
      "flex_flow": null,
      "grid_area": null,
      "grid_auto_columns": null,
      "grid_auto_flow": null,
      "grid_auto_rows": null,
      "grid_column": null,
      "grid_gap": null,
      "grid_row": null,
      "grid_template_areas": null,
      "grid_template_columns": null,
      "grid_template_rows": null,
      "height": null,
      "justify_content": null,
      "justify_items": null,
      "left": null,
      "margin": null,
      "max_height": null,
      "max_width": null,
      "min_height": null,
      "min_width": null,
      "object_fit": null,
      "object_position": null,
      "order": null,
      "overflow": null,
      "overflow_x": null,
      "overflow_y": null,
      "padding": null,
      "right": null,
      "top": null,
      "visibility": null,
      "width": null
     }
    },
    "ca2bbff6f14b4b1aac4a4c12d3e055a4": {
     "model_module": "@jupyter-widgets/base",
     "model_module_version": "1.2.0",
     "model_name": "LayoutModel",
     "state": {
      "_model_module": "@jupyter-widgets/base",
      "_model_module_version": "1.2.0",
      "_model_name": "LayoutModel",
      "_view_count": null,
      "_view_module": "@jupyter-widgets/base",
      "_view_module_version": "1.2.0",
      "_view_name": "LayoutView",
      "align_content": null,
      "align_items": null,
      "align_self": null,
      "border": null,
      "bottom": null,
      "display": null,
      "flex": null,
      "flex_flow": null,
      "grid_area": null,
      "grid_auto_columns": null,
      "grid_auto_flow": null,
      "grid_auto_rows": null,
      "grid_column": null,
      "grid_gap": null,
      "grid_row": null,
      "grid_template_areas": null,
      "grid_template_columns": null,
      "grid_template_rows": null,
      "height": null,
      "justify_content": null,
      "justify_items": null,
      "left": null,
      "margin": null,
      "max_height": null,
      "max_width": null,
      "min_height": null,
      "min_width": null,
      "object_fit": null,
      "object_position": null,
      "order": null,
      "overflow": null,
      "overflow_x": null,
      "overflow_y": null,
      "padding": null,
      "right": null,
      "top": null,
      "visibility": null,
      "width": null
     }
    },
    "cc0f3de5457c4ec793476748c40496bd": {
     "model_module": "@jupyter-widgets/controls",
     "model_module_version": "1.5.0",
     "model_name": "DescriptionStyleModel",
     "state": {
      "_model_module": "@jupyter-widgets/controls",
      "_model_module_version": "1.5.0",
      "_model_name": "DescriptionStyleModel",
      "_view_count": null,
      "_view_module": "@jupyter-widgets/base",
      "_view_module_version": "1.2.0",
      "_view_name": "StyleView",
      "description_width": ""
     }
    },
    "cf86279452fd4d77a5fa359bacb2d2b9": {
     "model_module": "@jupyter-widgets/controls",
     "model_module_version": "1.5.0",
     "model_name": "HTMLModel",
     "state": {
      "_dom_classes": [],
      "_model_module": "@jupyter-widgets/controls",
      "_model_module_version": "1.5.0",
      "_model_name": "HTMLModel",
      "_view_count": null,
      "_view_module": "@jupyter-widgets/controls",
      "_view_module_version": "1.5.0",
      "_view_name": "HTMLView",
      "description": "",
      "description_tooltip": null,
      "layout": "IPY_MODEL_8e67093e8f9145c2a0da181a6f2479f0",
      "placeholder": "​",
      "style": "IPY_MODEL_d301383a9d71481b9c07410207567336",
      "value": " 5.70G/5.70G [00:40&lt;00:00, 199MB/s]"
     }
    },
    "d0778230403f44f3b76bca878c0a97e1": {
     "model_module": "@jupyter-widgets/base",
     "model_module_version": "1.2.0",
     "model_name": "LayoutModel",
     "state": {
      "_model_module": "@jupyter-widgets/base",
      "_model_module_version": "1.2.0",
      "_model_name": "LayoutModel",
      "_view_count": null,
      "_view_module": "@jupyter-widgets/base",
      "_view_module_version": "1.2.0",
      "_view_name": "LayoutView",
      "align_content": null,
      "align_items": null,
      "align_self": null,
      "border": null,
      "bottom": null,
      "display": null,
      "flex": null,
      "flex_flow": null,
      "grid_area": null,
      "grid_auto_columns": null,
      "grid_auto_flow": null,
      "grid_auto_rows": null,
      "grid_column": null,
      "grid_gap": null,
      "grid_row": null,
      "grid_template_areas": null,
      "grid_template_columns": null,
      "grid_template_rows": null,
      "height": null,
      "justify_content": null,
      "justify_items": null,
      "left": null,
      "margin": null,
      "max_height": null,
      "max_width": null,
      "min_height": null,
      "min_width": null,
      "object_fit": null,
      "object_position": null,
      "order": null,
      "overflow": null,
      "overflow_x": null,
      "overflow_y": null,
      "padding": null,
      "right": null,
      "top": null,
      "visibility": null,
      "width": null
     }
    },
    "d301383a9d71481b9c07410207567336": {
     "model_module": "@jupyter-widgets/controls",
     "model_module_version": "1.5.0",
     "model_name": "DescriptionStyleModel",
     "state": {
      "_model_module": "@jupyter-widgets/controls",
      "_model_module_version": "1.5.0",
      "_model_name": "DescriptionStyleModel",
      "_view_count": null,
      "_view_module": "@jupyter-widgets/base",
      "_view_module_version": "1.2.0",
      "_view_name": "StyleView",
      "description_width": ""
     }
    },
    "d71885e688a248a7accd371ab89804b8": {
     "model_module": "@jupyter-widgets/controls",
     "model_module_version": "1.5.0",
     "model_name": "HTMLModel",
     "state": {
      "_dom_classes": [],
      "_model_module": "@jupyter-widgets/controls",
      "_model_module_version": "1.5.0",
      "_model_name": "HTMLModel",
      "_view_count": null,
      "_view_module": "@jupyter-widgets/controls",
      "_view_module_version": "1.5.0",
      "_view_name": "HTMLView",
      "description": "",
      "description_tooltip": null,
      "layout": "IPY_MODEL_32e8502d793b41e8964e0a9ae5848764",
      "placeholder": "​",
      "style": "IPY_MODEL_860e12880848415499a5b11534556f55",
      "value": "config.json: 100%"
     }
    },
    "d7db8fea988644de83a27315fdbba757": {
     "model_module": "@jupyter-widgets/controls",
     "model_module_version": "1.5.0",
     "model_name": "FloatProgressModel",
     "state": {
      "_dom_classes": [],
      "_model_module": "@jupyter-widgets/controls",
      "_model_module_version": "1.5.0",
      "_model_name": "FloatProgressModel",
      "_view_count": null,
      "_view_module": "@jupyter-widgets/controls",
      "_view_module_version": "1.5.0",
      "_view_name": "ProgressView",
      "bar_style": "success",
      "description": "",
      "description_tooltip": null,
      "layout": "IPY_MODEL_287ebe5289754a9d80b5b9188a5f2e22",
      "max": 172,
      "min": 0,
      "orientation": "horizontal",
      "style": "IPY_MODEL_6b34d571d4964d7287ed7f9583f7d9a9",
      "value": 172
     }
    },
    "daef7a63dd2a40df86cd088c702c349a": {
     "model_module": "@jupyter-widgets/controls",
     "model_module_version": "1.5.0",
     "model_name": "HTMLModel",
     "state": {
      "_dom_classes": [],
      "_model_module": "@jupyter-widgets/controls",
      "_model_module_version": "1.5.0",
      "_model_name": "HTMLModel",
      "_view_count": null,
      "_view_module": "@jupyter-widgets/controls",
      "_view_module_version": "1.5.0",
      "_view_name": "HTMLView",
      "description": "",
      "description_tooltip": null,
      "layout": "IPY_MODEL_06f0f9564e464ef190ba83457ca5e9f6",
      "placeholder": "​",
      "style": "IPY_MODEL_9feca4228ac341509355c82976e28990",
      "value": "tokenizer.json: 100%"
     }
    },
    "e82f102c69cb4e0dba05fce01d2af010": {
     "model_module": "@jupyter-widgets/controls",
     "model_module_version": "1.5.0",
     "model_name": "HTMLModel",
     "state": {
      "_dom_classes": [],
      "_model_module": "@jupyter-widgets/controls",
      "_model_module_version": "1.5.0",
      "_model_name": "HTMLModel",
      "_view_count": null,
      "_view_module": "@jupyter-widgets/controls",
      "_view_module_version": "1.5.0",
      "_view_name": "HTMLView",
      "description": "",
      "description_tooltip": null,
      "layout": "IPY_MODEL_294e2226586b4475bd9b00f0fcf322da",
      "placeholder": "​",
      "style": "IPY_MODEL_15c70a6813594e23a7074470660061fe",
      "value": " 1.20k/1.20k [00:00&lt;00:00, 35.7kB/s]"
     }
    },
    "ed179df796e74894b8353e5e61aee225": {
     "model_module": "@jupyter-widgets/controls",
     "model_module_version": "1.5.0",
     "model_name": "DescriptionStyleModel",
     "state": {
      "_model_module": "@jupyter-widgets/controls",
      "_model_module_version": "1.5.0",
      "_model_name": "DescriptionStyleModel",
      "_view_count": null,
      "_view_module": "@jupyter-widgets/base",
      "_view_module_version": "1.2.0",
      "_view_name": "StyleView",
      "description_width": ""
     }
    },
    "f2fde7c7d542402f95896fc7224cbe2e": {
     "model_module": "@jupyter-widgets/base",
     "model_module_version": "1.2.0",
     "model_name": "LayoutModel",
     "state": {
      "_model_module": "@jupyter-widgets/base",
      "_model_module_version": "1.2.0",
      "_model_name": "LayoutModel",
      "_view_count": null,
      "_view_module": "@jupyter-widgets/base",
      "_view_module_version": "1.2.0",
      "_view_name": "LayoutView",
      "align_content": null,
      "align_items": null,
      "align_self": null,
      "border": null,
      "bottom": null,
      "display": null,
      "flex": null,
      "flex_flow": null,
      "grid_area": null,
      "grid_auto_columns": null,
      "grid_auto_flow": null,
      "grid_auto_rows": null,
      "grid_column": null,
      "grid_gap": null,
      "grid_row": null,
      "grid_template_areas": null,
      "grid_template_columns": null,
      "grid_template_rows": null,
      "height": null,
      "justify_content": null,
      "justify_items": null,
      "left": null,
      "margin": null,
      "max_height": null,
      "max_width": null,
      "min_height": null,
      "min_width": null,
      "object_fit": null,
      "object_position": null,
      "order": null,
      "overflow": null,
      "overflow_x": null,
      "overflow_y": null,
      "padding": null,
      "right": null,
      "top": null,
      "visibility": null,
      "width": null
     }
    },
    "f4bee219a6dc4d92b7e6c1de374f8e9d": {
     "model_module": "@jupyter-widgets/base",
     "model_module_version": "1.2.0",
     "model_name": "LayoutModel",
     "state": {
      "_model_module": "@jupyter-widgets/base",
      "_model_module_version": "1.2.0",
      "_model_name": "LayoutModel",
      "_view_count": null,
      "_view_module": "@jupyter-widgets/base",
      "_view_module_version": "1.2.0",
      "_view_name": "LayoutView",
      "align_content": null,
      "align_items": null,
      "align_self": null,
      "border": null,
      "bottom": null,
      "display": null,
      "flex": null,
      "flex_flow": null,
      "grid_area": null,
      "grid_auto_columns": null,
      "grid_auto_flow": null,
      "grid_auto_rows": null,
      "grid_column": null,
      "grid_gap": null,
      "grid_row": null,
      "grid_template_areas": null,
      "grid_template_columns": null,
      "grid_template_rows": null,
      "height": null,
      "justify_content": null,
      "justify_items": null,
      "left": null,
      "margin": null,
      "max_height": null,
      "max_width": null,
      "min_height": null,
      "min_width": null,
      "object_fit": null,
      "object_position": null,
      "order": null,
      "overflow": null,
      "overflow_x": null,
      "overflow_y": null,
      "padding": null,
      "right": null,
      "top": null,
      "visibility": null,
      "width": null
     }
    },
    "f94c4d48d73e46109c6dc93a9f5c8fdf": {
     "model_module": "@jupyter-widgets/controls",
     "model_module_version": "1.5.0",
     "model_name": "HBoxModel",
     "state": {
      "_dom_classes": [],
      "_model_module": "@jupyter-widgets/controls",
      "_model_module_version": "1.5.0",
      "_model_name": "HBoxModel",
      "_view_count": null,
      "_view_module": "@jupyter-widgets/controls",
      "_view_module_version": "1.5.0",
      "_view_name": "HBoxView",
      "box_style": "",
      "children": [
       "IPY_MODEL_4b6bb0ee9e164b3299e5e603ef5e5108",
       "IPY_MODEL_d7db8fea988644de83a27315fdbba757",
       "IPY_MODEL_8e82ac6ad0864938b407ecb9b0c1da0d"
      ],
      "layout": "IPY_MODEL_008a4b513b294f6683126926ced6c9b3"
     }
    },
    "fae78868047848a2a2382a269308977a": {
     "model_module": "@jupyter-widgets/controls",
     "model_module_version": "1.5.0",
     "model_name": "HTMLModel",
     "state": {
      "_dom_classes": [],
      "_model_module": "@jupyter-widgets/controls",
      "_model_module_version": "1.5.0",
      "_model_name": "HTMLModel",
      "_view_count": null,
      "_view_module": "@jupyter-widgets/controls",
      "_view_module_version": "1.5.0",
      "_view_name": "HTMLView",
      "description": "",
      "description_tooltip": null,
      "layout": "IPY_MODEL_7c0f1b9d4d314eb1bc5c61bea0633442",
      "placeholder": "​",
      "style": "IPY_MODEL_cc0f3de5457c4ec793476748c40496bd",
      "value": " 9.09M/9.09M [00:00&lt;00:00, 28.1MB/s]"
     }
    }
   }
  }
 },
 "nbformat": 4,
 "nbformat_minor": 0
}
